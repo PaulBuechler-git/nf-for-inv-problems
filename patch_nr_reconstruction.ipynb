{
 "cells": [
  {
   "cell_type": "code",
   "execution_count": 12,
   "metadata": {
    "ExecuteTime": {
     "start_time": "2023-10-05T21:25:54.958023Z",
     "end_time": "2023-10-05T21:25:54.972598Z"
    },
    "collapsed": false,
    "jupyter": {
     "outputs_hidden": false
    }
   },
   "outputs": [],
   "source": [
    "from matplotlib import pyplot as plt\n",
    "from torch import nn\n",
    "from tqdm import tqdm\n",
    "from dataset.FastPatchExtractor import FastPatchDataset, FastPatchExtractor\n",
    "from operators.noise_operator import NoiseOperator\n",
    "import torch\n",
    "from patchNR.model import create_NF\n",
    "from scipy import ndimage"
   ]
  },
  {
   "cell_type": "code",
   "execution_count": 13,
   "metadata": {
    "ExecuteTime": {
     "start_time": "2023-10-05T21:25:58.033221Z",
     "end_time": "2023-10-05T21:25:58.042113Z"
    }
   },
   "outputs": [
    {
     "name": "stdout",
     "output_type": "stream",
     "text": [
      "cuda\n"
     ]
    }
   ],
   "source": [
    "DEVICE = torch.device('cuda' if torch.cuda.is_available() else 'cpu')\n",
    "print(DEVICE)"
   ]
  },
  {
   "cell_type": "code",
   "execution_count": 14,
   "metadata": {
    "ExecuteTime": {
     "start_time": "2023-10-05T21:25:58.869225Z",
     "end_time": "2023-10-05T21:25:58.877711Z"
    },
    "collapsed": false,
    "jupyter": {
     "outputs_hidden": false
    }
   },
   "outputs": [],
   "source": [
    "mean=0\n",
    "std = 50\n",
    "operator = NoiseOperator(mean, std, device=DEVICE)"
   ]
  },
  {
   "cell_type": "code",
   "execution_count": 15,
   "metadata": {
    "ExecuteTime": {
     "start_time": "2023-10-05T21:25:59.509102Z",
     "end_time": "2023-10-05T21:25:59.545458Z"
    },
    "collapsed": false,
    "jupyter": {
     "outputs_hidden": false
    }
   },
   "outputs": [],
   "source": [
    "rec_image = FastPatchDataset('data/material_pt_nr/test.png', 9, device=DEVICE).images[0]\n",
    "deg_rec_image = operator(rec_image)"
   ]
  },
  {
   "cell_type": "code",
   "execution_count": 16,
   "metadata": {
    "ExecuteTime": {
     "start_time": "2023-10-05T21:26:00.134407Z",
     "end_time": "2023-10-05T21:26:00.142570Z"
    },
    "collapsed": false,
    "jupyter": {
     "outputs_hidden": false
    }
   },
   "outputs": [],
   "source": [
    "#fig, axes = plt.subplots(1, 3, figsize=(10, 5))\n",
    "#axes[0].imshow(rec_image.squeeze(), cmap='gray')\n",
    "#axes[0].set_title('Clean image')\n",
    "#axes[0].axis('off')\n",
    "#axes[1].imshow(deg_rec_image.squeeze(), cmap='gray')\n",
    "#axes[1].set_title(f'With Operator')\n",
    "#axes[1].axis('off')\n",
    "#axes[2].imshow((deg_rec_image-rec_image).squeeze(), cmap='gray')\n",
    "#axes[2].set_title(f'Diff')\n",
    "#axes[2].axis('off')\n",
    "#plt.tight_layout()\n",
    "#plt.show()"
   ]
  },
  {
   "cell_type": "code",
   "execution_count": 17,
   "metadata": {
    "ExecuteTime": {
     "start_time": "2023-10-05T21:26:00.677058Z",
     "end_time": "2023-10-05T21:26:00.686601Z"
    },
    "collapsed": false,
    "jupyter": {
     "outputs_hidden": false
    }
   },
   "outputs": [],
   "source": [
    "weight = 'patchNR/patchNR_weights/weights_material.pth'"
   ]
  },
  {
   "cell_type": "code",
   "execution_count": 18,
   "metadata": {
    "ExecuteTime": {
     "start_time": "2023-10-05T21:26:01.255811Z",
     "end_time": "2023-10-05T21:26:01.331865Z"
    },
    "collapsed": false,
    "jupyter": {
     "outputs_hidden": false
    }
   },
   "outputs": [
    {
     "data": {
      "text/plain": "<All keys matched successfully>"
     },
     "execution_count": 18,
     "metadata": {},
     "output_type": "execute_result"
    }
   ],
   "source": [
    "patch_size = 6\n",
    "num_layers = 5\n",
    "subnet_nodes = 512\n",
    "net = create_NF(num_layers, subnet_nodes, dimension=patch_size**2)\n",
    "weights = torch.load(weight, map_location=DEVICE)\n",
    "net.load_state_dict(weights['net_state_dict'])"
   ]
  },
  {
   "cell_type": "code",
   "execution_count": 41,
   "metadata": {
    "ExecuteTime": {
     "start_time": "2023-10-05T22:25:13.117251Z",
     "end_time": "2023-10-05T22:25:13.160791Z"
    },
    "collapsed": false,
    "jupyter": {
     "outputs_hidden": false
    }
   },
   "outputs": [],
   "source": [
    "from torch.utils.tensorboard import SummaryWriter\n",
    "\n",
    "\n",
    "def reconstruct(img,  lam, patch_size, n_patches_out, model, n_iter_max):\n",
    "    model.to(DEVICE)\n",
    "    summaryWriter = SummaryWriter()\n",
    "    \"\"\"\n",
    "    Defines the reconstruction using patchNR as regularizer\n",
    "    \"\"\"\n",
    "\n",
    "    # fixed parameters\n",
    "    obs = img.to(DEVICE)\n",
    "    operator = NoiseOperator(mean=0, std=50, device=DEVICE)\n",
    "    center = True\n",
    "    init = obs\n",
    "    pad_size = 4 #pad the image before extracting patches to avoid boundary effects\n",
    "    pad = [pad_size]*4\n",
    "\n",
    "    # create patch extractors\n",
    "    patch_extractor = FastPatchExtractor(patch_size, pad=False, center=center, device=DEVICE).to(DEVICE)\n",
    "\n",
    "    # intialize optimizer for image\n",
    "    fake_img = torch.tensor(init.clone(), dtype=torch.float32, device=DEVICE, requires_grad=True)\n",
    "    optim_img = torch.optim.Adam([fake_img], lr=0.005)\n",
    "    bar = tqdm(range(n_iter_max))\n",
    "\n",
    "    loss_list = []\n",
    "    # Main loop\n",
    "    for it in bar:\n",
    "        optim_img.zero_grad()\n",
    "        tmp = nn.functional.pad(fake_img, pad, mode='reflect')\n",
    "        fake_data = patch_extractor.extract(tmp, n_patches_out)\n",
    "        pred_inv, log_det_inv = model(fake_data,rev=True)\n",
    "        reg = torch.mean(torch.sum(pred_inv**2,dim=1)/2) - torch.mean(log_det_inv)\n",
    "\n",
    "        #data fidelity\n",
    "        data_fid = torch.sum((operator(fake_img) - obs)**2)\n",
    "        #data_fid = torch.sum((fake_img - obs)**2)\n",
    "\n",
    "        #loss\n",
    "        loss = data_fid + lam*reg\n",
    "        summaryWriter.add_scalar('Data', data_fid, it)\n",
    "        summaryWriter.add_scalar('Reg', reg, it)\n",
    "        summaryWriter.add_scalar('Loss', loss, it)\n",
    "        loss_list.append([data_fid, reg, loss])\n",
    "        bar.set_description_str('D/R: {data:.2f}  - {reg:.2f} | L: {loss:.2f} '.format(data=data_fid, reg=reg, loss=loss))\n",
    "        if reg <0:\n",
    "            break\n",
    "        loss.backward()\n",
    "        optim_img.step()\n",
    "    return fake_img, loss_list"
   ]
  },
  {
   "cell_type": "code",
   "execution_count": 40,
   "metadata": {
    "ExecuteTime": {
     "start_time": "2023-10-05T21:30:57.113763Z",
     "end_time": "2023-10-05T21:31:32.997356Z"
    },
    "collapsed": false,
    "jupyter": {
     "outputs_hidden": false
    }
   },
   "outputs": [
    {
     "name": "stderr",
     "output_type": "stream",
     "text": [
      "/var/tmp/ipykernel_6922/2783131609.py:23: UserWarning: To copy construct from a tensor, it is recommended to use sourceTensor.clone().detach() or sourceTensor.clone().detach().requires_grad_(True), rather than torch.tensor(sourceTensor).\n",
      "  fake_img = torch.tensor(init, dtype=torch.float32, device=DEVICE, requires_grad=True)\n",
      "  0%|          | 0/300 [00:01<?, ?it/s]\n"
     ]
    },
    {
     "ename": "NotImplementedError",
     "evalue": "Only 2D, 3D, 4D, 5D padding with non-constant padding are supported for now",
     "output_type": "error",
     "traceback": [
      "\u001B[0;31m---------------------------------------------------------------------------\u001B[0m",
      "\u001B[0;31mNotImplementedError\u001B[0m                       Traceback (most recent call last)",
      "Cell \u001B[0;32mIn[40], line 4\u001B[0m\n\u001B[1;32m      2\u001B[0m n_pat \u001B[38;5;241m=\u001B[39m \u001B[38;5;241m40000\u001B[39m\n\u001B[1;32m      3\u001B[0m iteration \u001B[38;5;241m=\u001B[39m \u001B[38;5;241m300\u001B[39m\n\u001B[0;32m----> 4\u001B[0m rec, loss \u001B[38;5;241m=\u001B[39m \u001B[43mreconstruct\u001B[49m\u001B[43m(\u001B[49m\u001B[43mdeg_rec_image\u001B[49m\u001B[43m,\u001B[49m\u001B[43m \u001B[49m\u001B[43mlam\u001B[49m\u001B[43m \u001B[49m\u001B[38;5;241;43m=\u001B[39;49m\u001B[43m \u001B[49m\u001B[43mlam\u001B[49m\u001B[43m,\u001B[49m\u001B[43m \u001B[49m\u001B[43mpatch_size\u001B[49m\u001B[43m \u001B[49m\u001B[38;5;241;43m=\u001B[39;49m\u001B[43m \u001B[49m\u001B[43mpatch_size\u001B[49m\u001B[43m,\u001B[49m\u001B[43m \u001B[49m\u001B[43mn_patches_out\u001B[49m\u001B[43m \u001B[49m\u001B[38;5;241;43m=\u001B[39;49m\u001B[43m \u001B[49m\u001B[43mn_pat\u001B[49m\u001B[43m,\u001B[49m\n\u001B[1;32m      5\u001B[0m \u001B[43m              \u001B[49m\u001B[43mmodel\u001B[49m\u001B[43m \u001B[49m\u001B[38;5;241;43m=\u001B[39;49m\u001B[43m \u001B[49m\u001B[43mnet\u001B[49m\u001B[43m,\u001B[49m\u001B[43m \u001B[49m\u001B[43mn_iter_max\u001B[49m\u001B[43m \u001B[49m\u001B[38;5;241;43m=\u001B[39;49m\u001B[43m \u001B[49m\u001B[43miteration\u001B[49m\u001B[43m)\u001B[49m\n",
      "Cell \u001B[0;32mIn[39], line 31\u001B[0m, in \u001B[0;36mreconstruct\u001B[0;34m(img, lam, patch_size, n_patches_out, model, n_iter_max)\u001B[0m\n\u001B[1;32m     29\u001B[0m \u001B[38;5;28;01mfor\u001B[39;00m it \u001B[38;5;129;01min\u001B[39;00m bar:\n\u001B[1;32m     30\u001B[0m     optim_img\u001B[38;5;241m.\u001B[39mzero_grad()\n\u001B[0;32m---> 31\u001B[0m     tmp \u001B[38;5;241m=\u001B[39m \u001B[43mnn\u001B[49m\u001B[38;5;241;43m.\u001B[39;49m\u001B[43mfunctional\u001B[49m\u001B[38;5;241;43m.\u001B[39;49m\u001B[43mpad\u001B[49m\u001B[43m(\u001B[49m\u001B[43mfake_img\u001B[49m\u001B[43m,\u001B[49m\u001B[43m \u001B[49m\u001B[43mpad\u001B[49m\u001B[43m,\u001B[49m\u001B[43m \u001B[49m\u001B[43mmode\u001B[49m\u001B[38;5;241;43m=\u001B[39;49m\u001B[38;5;124;43m'\u001B[39;49m\u001B[38;5;124;43mreflect\u001B[39;49m\u001B[38;5;124;43m'\u001B[39;49m\u001B[43m)\u001B[49m\n\u001B[1;32m     32\u001B[0m     fake_data \u001B[38;5;241m=\u001B[39m patch_extractor\u001B[38;5;241m.\u001B[39mextract(tmp, n_patches_out)\n\u001B[1;32m     33\u001B[0m     pred_inv, log_det_inv \u001B[38;5;241m=\u001B[39m model(fake_data,rev\u001B[38;5;241m=\u001B[39m\u001B[38;5;28;01mTrue\u001B[39;00m)\n",
      "\u001B[0;31mNotImplementedError\u001B[0m: Only 2D, 3D, 4D, 5D padding with non-constant padding are supported for now"
     ]
    }
   ],
   "source": [
    "lam = 2*std\n",
    "n_pat = 40000\n",
    "iteration = 300\n",
    "rec, loss = reconstruct(deg_rec_image, lam = lam, patch_size = patch_size, n_patches_out = n_pat,\n",
    "              model = net, n_iter_max = iteration)"
   ]
  },
  {
   "cell_type": "code",
   "execution_count": null,
   "outputs": [],
   "source": [
    "reconstructed = rec.detach().cpu().squeeze()\n",
    "expected = rec_image.squeeze().cpu()\n",
    "degraded = deg_rec_image.squeeze().cpu()\n",
    "# Create a figure with two subplots arranged horizontally\n",
    "fig, axes = plt.subplots(1, 4, figsize=(10, 5))\n",
    "axes[0].imshow(expected, cmap='gray')\n",
    "axes[0].set_title('Reconstructed')\n",
    "axes[0].axis('off')\n",
    "axes[1].imshow(reconstructed, cmap='gray')\n",
    "axes[1].set_title('Reconstructed')\n",
    "axes[1].axis('off')\n",
    "axes[2].imshow(degraded, cmap='gray')\n",
    "axes[2].set_title(f'Degraded')\n",
    "axes[2].axis('off')\n",
    "axes[3].imshow((degraded-reconstructed).squeeze(), cmap='gray')\n",
    "axes[3].set_title(f'Diff')\n",
    "axes[3].axis('off')\n",
    "plt.tight_layout()\n",
    "plt.show()"
   ],
   "metadata": {
    "collapsed": false,
    "ExecuteTime": {
     "start_time": "2023-10-05T20:40:29.974160Z",
     "end_time": "2023-10-05T20:40:30.914907Z"
    }
   }
  },
  {
   "cell_type": "code",
   "execution_count": null,
   "metadata": {
    "ExecuteTime": {
     "start_time": "2023-10-05T20:45:36.194376Z",
     "end_time": "2023-10-05T20:45:36.238192Z"
    },
    "collapsed": false,
    "jupyter": {
     "outputs_hidden": false
    }
   },
   "outputs": [],
   "source": [
    "patch_extractor = FastPatchExtractor(50)"
   ]
  },
  {
   "cell_type": "code",
   "execution_count": null,
   "outputs": [],
   "source": [
    "patch_extractor.extract(rec)[3]"
   ],
   "metadata": {
    "collapsed": false
   }
  },
  {
   "cell_type": "code",
   "execution_count": 11,
   "metadata": {
    "ExecuteTime": {
     "end_time": "2023-10-05T18:32:44.826801Z",
     "start_time": "2023-10-05T18:32:16.893333Z"
    },
    "collapsed": false,
    "jupyter": {
     "outputs_hidden": false
    }
   },
   "outputs": [
    {
     "ename": "NameError",
     "evalue": "name 'patch_extractor' is not defined",
     "output_type": "error",
     "traceback": [
      "\u001B[0;31m---------------------------------------------------------------------------\u001B[0m",
      "\u001B[0;31mNameError\u001B[0m                                 Traceback (most recent call last)",
      "Cell \u001B[0;32mIn[11], line 1\u001B[0m\n\u001B[0;32m----> 1\u001B[0m ground_truth \u001B[38;5;241m=\u001B[39m \u001B[43mpatch_extractor\u001B[49m\u001B[38;5;241m.\u001B[39mextract(expected\u001B[38;5;241m.\u001B[39munsqueeze(\u001B[38;5;241m0\u001B[39m))[\u001B[38;5;241m3\u001B[39m]\n\u001B[1;32m      2\u001B[0m reconstructed \u001B[38;5;241m=\u001B[39m torch\u001B[38;5;241m.\u001B[39mreshape(patch_extractor\u001B[38;5;241m.\u001B[39mextract(reconstructed\u001B[38;5;241m.\u001B[39munsqueeze(\u001B[38;5;241m0\u001B[39m))[\u001B[38;5;241m3\u001B[39m])\n\u001B[1;32m      3\u001B[0m deg_rec_image \u001B[38;5;241m=\u001B[39m torch\u001B[38;5;241m.\u001B[39mreshape(patch_extractor\u001B[38;5;241m.\u001B[39mextract(degraded\u001B[38;5;241m.\u001B[39munsqueeze(\u001B[38;5;241m0\u001B[39m))[\u001B[38;5;241m3\u001B[39m])\n",
      "\u001B[0;31mNameError\u001B[0m: name 'patch_extractor' is not defined"
     ]
    }
   ],
   "source": []
  },
  {
   "cell_type": "code",
   "execution_count": 92,
   "metadata": {
    "ExecuteTime": {
     "end_time": "2023-10-05T18:33:18.172222Z",
     "start_time": "2023-10-05T18:33:17.582810Z"
    },
    "collapsed": false,
    "jupyter": {
     "outputs_hidden": false
    }
   },
   "outputs": [
    {
     "data": {
      "image/png": "[encoded data removed]",
      "text/plain": [
       "<Figure size 1000x500 with 3 Axes>"
      ]
     },
     "metadata": {},
     "output_type": "display_data"
    }
   ],
   "source": [
    "fig, axes = plt.subplots(1, 3, figsize=(10, 5))\n",
    "axes[0].imshow(ground_truth, cmap='gray')\n",
    "axes[0].set_title('Ground truth')\n",
    "axes[0].axis('off')\n",
    "axes[1].imshow(reconstructed, cmap='gray')\n",
    "axes[1].set_title('Reconstructed')\n",
    "axes[1].axis('off')\n",
    "axes[2].imshow(deg_rec_image, cmap='gray')\n",
    "axes[2].set_title(f'Degraded')\n",
    "axes[2].axis('off')\n",
    "plt.tight_layout()\n",
    "plt.show()"
   ]
  },
  {
   "cell_type": "code",
   "execution_count": null,
   "metadata": {
    "collapsed": false,
    "jupyter": {
     "outputs_hidden": false
    }
   },
   "outputs": [],
   "source": []
  }
 ],
 "metadata": {
  "environment": {
   "kernel": "python3",
   "name": "pytorch-gpu.2-0.m111",
   "type": "gcloud",
   "uri": "gcr.io/deeplearning-platform-release/pytorch-gpu.2-0:m111"
  },
  "kernelspec": {
   "name": "python3",
   "language": "python",
   "display_name": "Python 3"
  },
  "language_info": {
   "codemirror_mode": {
    "name": "ipython",
    "version": 3
   },
   "file_extension": ".py",
   "mimetype": "text/x-python",
   "name": "python",
   "nbconvert_exporter": "python",
   "pygments_lexer": "ipython3",
   "version": "3.10.12"
  }
 },
 "nbformat": 4,
 "nbformat_minor": 4
}
