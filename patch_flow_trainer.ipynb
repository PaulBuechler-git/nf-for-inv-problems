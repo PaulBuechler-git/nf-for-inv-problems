{
 "cells": [
  {
   "cell_type": "code",
   "execution_count": 10,
   "outputs": [],
   "source": [
    "import os\n",
    "import re\n",
    "import json\n",
    "import sqlite3\n",
    "import torch\n",
    "from tqdm import tqdm\n",
    "import torchvision.transforms as T\n",
    "from file_utils import create_versioned_dir, get_version_dir\n",
    "from flow_models import FlowModel\n",
    "from flow_models.PatchFlowModel import PatchFlowModel\n",
    "from img_utils import ImageLoader, PatchExtractor\n",
    "from transforms import image_dequantization, image_normalization"
   ],
   "metadata": {
    "collapsed": false,
    "ExecuteTime": {
     "start_time": "2023-10-19T00:48:06.414936Z",
     "end_time": "2023-10-19T00:48:06.425017Z"
    }
   }
  },
  {
   "cell_type": "code",
   "execution_count": 11,
   "outputs": [],
   "source": [
    "DEVICE = torch.device('cuda' if torch.cuda.is_available() else 'cpu')"
   ],
   "metadata": {
    "collapsed": false,
    "ExecuteTime": {
     "start_time": "2023-10-19T00:48:06.851009Z",
     "end_time": "2023-10-19T00:48:06.864173Z"
    }
   }
  },
  {
   "cell_type": "code",
   "execution_count": 12,
   "metadata": {
    "collapsed": true,
    "ExecuteTime": {
     "start_time": "2023-10-19T00:48:07.266210Z",
     "end_time": "2023-10-19T00:48:07.284815Z"
    }
   },
   "outputs": [],
   "source": [
    "def patch_flow_trainer(name: str, path: str, model: FlowModel, loss_fn, train_images: ImageLoader, validation_images: ImageLoader,\n",
    "                       patch_size=6, batch_size=64, steps=750000, val_each_steps=1000, loss_log_each_step=100, device='cpu',\n",
    "                       quiet=False, lr=0.005):\n",
    "    if not quiet:\n",
    "        print(f'Started training for model {name}. \\n Will train {steps} steps in device={device}')\n",
    "    dir = create_versioned_dir(path, name)\n",
    "    if not quiet:\n",
    "        print(f'The weights, loss and the parameters will be stored at this location: {dir}')\n",
    "    hparams = model.get_hparams()\n",
    "    hparams['patch_size'] = patch_size\n",
    "    hparams['batch_size'] = patch_size\n",
    "    hparams['device'] = str(device)\n",
    "    hparams['train_img_path'] = train_images.path\n",
    "    hparams['validation_img_path'] = validation_images.path\n",
    "    hparams['model_name'] = name\n",
    "    hparams['lr'] = lr\n",
    "    json.dump(hparams, open(os.path.join(dir, 'hparams.yaml'), 'w'))\n",
    "\n",
    "\n",
    "    # create sqllite3 conection to save the loss values\n",
    "    connection = sqlite3.connect(os.path.join(dir, 'loss.db'))\n",
    "    cursor = connection.cursor()\n",
    "    cursor.execute(\"CREATE TABLE flow_model_train_loss(step, loss)\")\n",
    "    cursor.execute(\"CREATE TABLE flow_model_validation_loss(step, loss)\")\n",
    "    connection.commit()\n",
    "\n",
    "\n",
    "\n",
    "    model.to(DEVICE)\n",
    "\n",
    "    patch_extractor = PatchExtractor(p_size=patch_size, device=device)\n",
    "    progress_bar = tqdm(range(steps)) if not quiet else range(steps)\n",
    "\n",
    "    optimizer = torch.optim.Adam(model.parameters(), lr=lr)\n",
    "\n",
    "    if not quiet:\n",
    "        print(f'Optimizer is initialized with this parameters: {optimizer.state_dict()}')\n",
    "\n",
    "    tmp_validation_loss = 0\n",
    "    tmp_loss =0\n",
    "\n",
    "    loss_buffer = []\n",
    "\n",
    "    for step in progress_bar:\n",
    "        train_image = train_images.get_random_image()\n",
    "        train_patch_batch = patch_extractor.extract(train_image, batch_size)\n",
    "\n",
    "        loss = 0\n",
    "        z, z_log_det = model(train_patch_batch, rev=True)\n",
    "        loss += loss_fn(z, z_log_det)\n",
    "\n",
    "        optimizer.zero_grad()\n",
    "        loss.backward()\n",
    "        optimizer.step()\n",
    "\n",
    "        if step % loss_log_each_step == 0:\n",
    "            tmp_loss = loss.item()\n",
    "            if not quiet:\n",
    "                progress_bar.set_description_str(f'T: {tmp_loss}, V:{tmp_validation_loss}')\n",
    "            loss_buffer.append((step, loss.item()))\n",
    "\n",
    "        if step % val_each_steps == 0:\n",
    "            with torch.no_grad():\n",
    "                val_image = validation_images.get_random_image()\n",
    "                val_patch_batch = patch_extractor.extract(val_image, batch_size)\n",
    "                z_val, z_val_log_det = model(val_patch_batch, rev=True)\n",
    "                val_loss = loss_fn(z_val, z_val_log_det)\n",
    "                tmp_validation_loss = val_loss.item()\n",
    "                # write train loss buffer and validation loss to db\n",
    "                cursor.execute(\"INSERT INTO flow_model_validation_loss VALUES(?, ?)\", (step, val_loss.item()))\n",
    "                cursor.executemany(\"INSERT INTO flow_model_train_loss VALUES(?, ?)\", loss_buffer)\n",
    "                connection.commit()\n",
    "                # save checkpoint\n",
    "                torch.save(optimizer.state_dict(), os.path.join(dir, f'optimizer_dict.pth'))\n",
    "                torch.save(model.get_state(), os.path.join(dir, f'{name}_intermediate.pth'))\n",
    "                if not quiet:\n",
    "                    progress_bar.set_description_str(f'T: {tmp_loss}, V:{tmp_validation_loss}')\n",
    "    connection.close()\n",
    "    torch.save(model.get_state(), os.path.join(dir, f'{name}_final.pth'))\n"
   ]
  },
  {
   "cell_type": "code",
   "execution_count": 13,
   "outputs": [],
   "source": [
    "patch_size = 7"
   ],
   "metadata": {
    "collapsed": false,
    "ExecuteTime": {
     "start_time": "2023-10-19T00:48:08.047404Z",
     "end_time": "2023-10-19T00:48:08.090718Z"
    }
   }
  },
  {
   "cell_type": "code",
   "execution_count": 14,
   "outputs": [],
   "source": [
    "def log_likelihood_loss(z, z_log_det):\n",
    "    return torch.mean(0.5 * torch.sum(z**2, dim=1) - z_log_det)"
   ],
   "metadata": {
    "collapsed": false,
    "ExecuteTime": {
     "start_time": "2023-10-19T00:48:08.434246Z",
     "end_time": "2023-10-19T00:48:08.435618Z"
    }
   }
  },
  {
   "cell_type": "code",
   "execution_count": 6,
   "outputs": [],
   "source": [
    "model = PatchFlowModel(hparams={\"num_layers\": 5, \"sub_net_size\": 512, \"dimension\": patch_size ** 2}) #create_NF(num_layers=10, sub_net_size=512, dimension=patch_size**2)"
   ],
   "metadata": {
    "collapsed": false,
    "ExecuteTime": {
     "start_time": "2023-10-19T00:47:12.559573Z",
     "end_time": "2023-10-19T00:47:12.594059Z"
    }
   }
  },
  {
   "cell_type": "code",
   "execution_count": 7,
   "outputs": [],
   "source": [
    "deq_normalization = T.Compose([\n",
    "    image_dequantization(device=DEVICE),\n",
    "    image_normalization()])"
   ],
   "metadata": {
    "collapsed": false,
    "ExecuteTime": {
     "start_time": "2023-10-19T00:47:13.006615Z",
     "end_time": "2023-10-19T00:47:13.015056Z"
    }
   }
  },
  {
   "cell_type": "code",
   "execution_count": 8,
   "outputs": [],
   "source": [
    "train_images = ImageLoader('data/material_pt_nr/train.png', transform=deq_normalization, device=DEVICE)\n",
    "validation_images = ImageLoader('data/material_pt_nr/validate.png', transform=deq_normalization, device=DEVICE)"
   ],
   "metadata": {
    "collapsed": false,
    "ExecuteTime": {
     "start_time": "2023-10-19T00:47:13.513527Z",
     "end_time": "2023-10-19T00:47:15.428029Z"
    }
   }
  },
  {
   "cell_type": "code",
   "execution_count": 9,
   "outputs": [
    {
     "name": "stdout",
     "output_type": "stream",
     "text": [
      "Started training for model custom_patch_nr. \n",
      " Will train 3000 steps in device=cuda\n",
      "The weights, loss and the parameters will be stored at this location: results/patch_nr/custom_patch_nr/version_0\n"
     ]
    },
    {
     "name": "stderr",
     "output_type": "stream",
     "text": [
      "  0%|          | 0/3000 [00:00<?, ?it/s]"
     ]
    },
    {
     "name": "stdout",
     "output_type": "stream",
     "text": [
      "Optimizer is initialized with this parameters: {'state': {}, 'param_groups': [{'lr': 0.005, 'betas': (0.9, 0.999), 'eps': 1e-08, 'weight_decay': 0, 'amsgrad': False, 'maximize': False, 'foreach': None, 'capturable': False, 'differentiable': False, 'fused': None, 'params': [0, 1, 2, 3, 4, 5, 6, 7, 8, 9, 10, 11, 12, 13, 14, 15, 16, 17, 18, 19, 20, 21, 22, 23, 24, 25, 26, 27, 28, 29, 30, 31, 32, 33, 34, 35, 36, 37, 38, 39, 40, 41, 42, 43, 44, 45, 46, 47, 48, 49, 50, 51, 52, 53, 54, 55, 56, 57, 58, 59, 60, 61, 62, 63, 64, 65, 66, 67, 68, 69]}]}\n"
     ]
    },
    {
     "name": "stderr",
     "output_type": "stream",
     "text": [
      "T: -161.2217559814453, V:-168.14459228515625: 100%|██████████| 3000/3000 [00:44<00:00, 66.99it/s] \n"
     ]
    }
   ],
   "source": [
    "patch_flow_trainer('custom_patch_nr', 'results/patch_nr', model, log_likelihood_loss, train_images, validation_images, steps=3000, patch_size=patch_size, device=DEVICE)"
   ],
   "metadata": {
    "collapsed": false,
    "ExecuteTime": {
     "start_time": "2023-10-19T00:47:15.995565Z",
     "end_time": "2023-10-19T00:48:00.846709Z"
    }
   }
  },
  {
   "cell_type": "code",
   "execution_count": 15,
   "outputs": [
    {
     "name": "stdout",
     "output_type": "stream",
     "text": [
      "True\n",
      "{'num_layers': 5, 'sub_net_size': 512, 'dimension': 49}\n"
     ]
    }
   ],
   "source": [
    "version_folder = get_version_dir('results/patch_nr', 'custom_patch_nr', 0)\n",
    "loaded_model = PatchFlowModel(path=os.path.join(version_folder, 'custom_patch_nr_final.pth'))"
   ],
   "metadata": {
    "collapsed": false,
    "ExecuteTime": {
     "start_time": "2023-10-19T00:48:11.693655Z",
     "end_time": "2023-10-19T00:48:11.744471Z"
    }
   }
  },
  {
   "cell_type": "code",
   "execution_count": null,
   "outputs": [],
   "source": [],
   "metadata": {
    "collapsed": false
   }
  }
 ],
 "metadata": {
  "kernelspec": {
   "name": "python3",
   "language": "python",
   "display_name": "Python 3"
  },
  "language_info": {
   "codemirror_mode": {
    "name": "ipython",
    "version": 2
   },
   "file_extension": ".py",
   "mimetype": "text/x-python",
   "name": "python",
   "nbconvert_exporter": "python",
   "pygments_lexer": "ipython2",
   "version": "2.7.6"
  }
 },
 "nbformat": 4,
 "nbformat_minor": 0
}
