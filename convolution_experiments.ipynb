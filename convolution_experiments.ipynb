{
 "cells": [
  {
   "cell_type": "code",
   "execution_count": 28,
   "metadata": {
    "collapsed": true,
    "ExecuteTime": {
     "start_time": "2023-11-22T23:37:31.508888Z",
     "end_time": "2023-11-22T23:37:31.558401Z"
    }
   },
   "outputs": [],
   "source": [
    "import matplotlib.patches as patches\n",
    "import torch\n",
    "\n",
    "import torchvision.transforms as T\n",
    "from matplotlib import pyplot as plt\n",
    "\n",
    "from dataset.FastPatchExtractor import FastPatchExtractor\n",
    "from kernels import mean_kernel_generator, gaussian_kernel_generator\n",
    "from core.Transforms import image_normalization\n",
    "from patchNr.Operators import BlurOperator\n",
    "from utils.img_utils import ImageLoader"
   ]
  },
  {
   "cell_type": "code",
   "execution_count": 29,
   "outputs": [],
   "source": [
    "file = \"./data/set12/01.png\"\n",
    "ground_truth_image = ImageLoader(file, transform=T.Compose([\n",
    "    image_normalization()]))"
   ],
   "metadata": {
    "collapsed": false,
    "ExecuteTime": {
     "start_time": "2023-11-22T23:37:32.463116Z",
     "end_time": "2023-11-22T23:37:32.495184Z"
    }
   }
  },
  {
   "cell_type": "code",
   "execution_count": 30,
   "outputs": [],
   "source": [
    "kernel_size = 5"
   ],
   "metadata": {
    "collapsed": false,
    "ExecuteTime": {
     "start_time": "2023-11-22T23:37:33.184772Z",
     "end_time": "2023-11-22T23:37:33.196559Z"
    }
   }
  },
  {
   "cell_type": "code",
   "execution_count": 31,
   "outputs": [],
   "source": [
    "single_kernel = torch.zeros((kernel_size, kernel_size)).unsqueeze(0).unsqueeze(0)\n",
    "single_kernel[0][0][kernel_size//2, kernel_size//2] = 1\n",
    "blur_operator = BlurOperator(single_kernel, device='cpu')\n",
    "mean_kernel = mean_kernel_generator(kernel_size)\n",
    "blur_operator_mean = BlurOperator(mean_kernel, device='cpu')\n",
    "gauss_kernel = gaussian_kernel_generator(kernel_size, std=1)\n",
    "blur_operator_gauss = BlurOperator(gauss_kernel, device='cpu')\n",
    "motion_kernel = (1/5)*torch.eye(5, 5).unsqueeze(0).unsqueeze(0)\n",
    "blur_operator_motion = BlurOperator(motion_kernel)"
   ],
   "metadata": {
    "collapsed": false,
    "ExecuteTime": {
     "start_time": "2023-11-22T23:37:34.002466Z",
     "end_time": "2023-11-22T23:37:34.047556Z"
    }
   }
  },
  {
   "cell_type": "code",
   "execution_count": 32,
   "outputs": [],
   "source": [
    "def plot_images(path, img0, kernel, selected_patch=(100, 100), p_size=30):\n",
    "    image0 = img0.to('cpu')\n",
    "    out_dim = (p_size, p_size)\n",
    "    patch_extractor = FastPatchExtractor(p_dim=30, pad=True)\n",
    "    c, x, y = image0.size()\n",
    "    p_x, p_y = selected_patch\n",
    "    p_pos = p_y*x + p_x\n",
    "    p_image0 = torch.reshape(patch_extractor.extract(image0.unsqueeze(0))[p_pos], out_dim)\n",
    "    fig, axes = plt.subplots(3, 1, figsize=(1.5, 4.5))\n",
    "    rect1 = patches.Rectangle((p_x, p_y), p_size, p_size, linewidth=1, edgecolor='r',facecolor='none')\n",
    "    axes[0].imshow(image0.squeeze(), cmap='gray')\n",
    "    axes[0].add_patch(rect1)\n",
    "    axes[0].axis('off')\n",
    "    axes[1].imshow(p_image0.squeeze(), cmap='gray')\n",
    "    axes[1].axis('off')\n",
    "    axes[2].imshow(kernel.squeeze(), cmap='gray', vmin=0, vmax=0.4)\n",
    "    axes[2].axis('off')\n",
    "    fig.tight_layout()\n",
    "    fig.show()\n",
    "    fig.savefig(path)"
   ],
   "metadata": {
    "collapsed": false,
    "ExecuteTime": {
     "start_time": "2023-11-22T23:37:34.837133Z",
     "end_time": "2023-11-22T23:37:34.867160Z"
    }
   }
  },
  {
   "cell_type": "code",
   "execution_count": 33,
   "outputs": [
    {
     "ename": "TypeError",
     "evalue": "img should be PIL Image. Got <class 'utils.img_utils.ImageLoader'>",
     "output_type": "error",
     "traceback": [
      "\u001B[0;31m---------------------------------------------------------------------------\u001B[0m",
      "\u001B[0;31mTypeError\u001B[0m                                 Traceback (most recent call last)",
      "Cell \u001B[0;32mIn[33], line 3\u001B[0m\n\u001B[1;32m      1\u001B[0m position \u001B[38;5;241m=\u001B[39m (\u001B[38;5;241m80\u001B[39m,\u001B[38;5;241m100\u001B[39m)\n\u001B[1;32m      2\u001B[0m patch_size \u001B[38;5;241m=\u001B[39m \u001B[38;5;241m30\u001B[39m\n\u001B[0;32m----> 3\u001B[0m plot_images(\u001B[38;5;124m'\u001B[39m\u001B[38;5;124mimages/kernel_exp/gt.png\u001B[39m\u001B[38;5;124m'\u001B[39m, \u001B[43mblur_operator\u001B[49m\u001B[43m(\u001B[49m\u001B[43mground_truth_image\u001B[49m\u001B[43m)\u001B[49m, single_kernel ,selected_patch\u001B[38;5;241m=\u001B[39mposition, p_size\u001B[38;5;241m=\u001B[39mpatch_size)\n\u001B[1;32m      4\u001B[0m plot_images(\u001B[38;5;124m'\u001B[39m\u001B[38;5;124mimages/kernel_exp/mean.png\u001B[39m\u001B[38;5;124m'\u001B[39m, blur_operator_mean(ground_truth_image), mean_kernel, selected_patch\u001B[38;5;241m=\u001B[39mposition, p_size\u001B[38;5;241m=\u001B[39mpatch_size)\n\u001B[1;32m      5\u001B[0m plot_images(\u001B[38;5;124m'\u001B[39m\u001B[38;5;124mimages/kernel_exp/gauss.png\u001B[39m\u001B[38;5;124m'\u001B[39m, blur_operator_gauss(ground_truth_image), gauss_kernel, selected_patch\u001B[38;5;241m=\u001B[39mposition, p_size\u001B[38;5;241m=\u001B[39mpatch_size)\n",
      "File \u001B[0;32m~/Projects/nf-for-inv-problems/patchNr/Operators.py:34\u001B[0m, in \u001B[0;36mBlurOperator.__call__\u001B[0;34m(self, image, padding)\u001B[0m\n\u001B[1;32m     32\u001B[0m \u001B[38;5;28;01mif\u001B[39;00m padding:\n\u001B[1;32m     33\u001B[0m     pad_trans \u001B[38;5;241m=\u001B[39m transforms\u001B[38;5;241m.\u001B[39mPad([\u001B[38;5;28mself\u001B[39m\u001B[38;5;241m.\u001B[39mkernel_size \u001B[38;5;241m/\u001B[39m\u001B[38;5;241m/\u001B[39m \u001B[38;5;241m2\u001B[39m, ], padding_mode\u001B[38;5;241m=\u001B[39m\u001B[38;5;124m\"\u001B[39m\u001B[38;5;124mreflect\u001B[39m\u001B[38;5;124m\"\u001B[39m)\n\u001B[0;32m---> 34\u001B[0m     image \u001B[38;5;241m=\u001B[39m \u001B[43mpad_trans\u001B[49m\u001B[43m(\u001B[49m\u001B[43mimage\u001B[49m\u001B[43m)\u001B[49m\n\u001B[1;32m     35\u001B[0m \u001B[38;5;28;01mreturn\u001B[39;00m F\u001B[38;5;241m.\u001B[39mconv2d(image, \u001B[38;5;28mself\u001B[39m\u001B[38;5;241m.\u001B[39mkernel)\u001B[38;5;241m.\u001B[39mto(\u001B[38;5;28mself\u001B[39m\u001B[38;5;241m.\u001B[39mdevice)\n",
      "File \u001B[0;32m~/.local/lib/python3.10/site-packages/torch/nn/modules/module.py:1501\u001B[0m, in \u001B[0;36mModule._call_impl\u001B[0;34m(self, *args, **kwargs)\u001B[0m\n\u001B[1;32m   1496\u001B[0m \u001B[38;5;66;03m# If we don't have any hooks, we want to skip the rest of the logic in\u001B[39;00m\n\u001B[1;32m   1497\u001B[0m \u001B[38;5;66;03m# this function, and just call forward.\u001B[39;00m\n\u001B[1;32m   1498\u001B[0m \u001B[38;5;28;01mif\u001B[39;00m \u001B[38;5;129;01mnot\u001B[39;00m (\u001B[38;5;28mself\u001B[39m\u001B[38;5;241m.\u001B[39m_backward_hooks \u001B[38;5;129;01mor\u001B[39;00m \u001B[38;5;28mself\u001B[39m\u001B[38;5;241m.\u001B[39m_backward_pre_hooks \u001B[38;5;129;01mor\u001B[39;00m \u001B[38;5;28mself\u001B[39m\u001B[38;5;241m.\u001B[39m_forward_hooks \u001B[38;5;129;01mor\u001B[39;00m \u001B[38;5;28mself\u001B[39m\u001B[38;5;241m.\u001B[39m_forward_pre_hooks\n\u001B[1;32m   1499\u001B[0m         \u001B[38;5;129;01mor\u001B[39;00m _global_backward_pre_hooks \u001B[38;5;129;01mor\u001B[39;00m _global_backward_hooks\n\u001B[1;32m   1500\u001B[0m         \u001B[38;5;129;01mor\u001B[39;00m _global_forward_hooks \u001B[38;5;129;01mor\u001B[39;00m _global_forward_pre_hooks):\n\u001B[0;32m-> 1501\u001B[0m     \u001B[38;5;28;01mreturn\u001B[39;00m \u001B[43mforward_call\u001B[49m\u001B[43m(\u001B[49m\u001B[38;5;241;43m*\u001B[39;49m\u001B[43margs\u001B[49m\u001B[43m,\u001B[49m\u001B[43m \u001B[49m\u001B[38;5;241;43m*\u001B[39;49m\u001B[38;5;241;43m*\u001B[39;49m\u001B[43mkwargs\u001B[49m\u001B[43m)\u001B[49m\n\u001B[1;32m   1502\u001B[0m \u001B[38;5;66;03m# Do not call functions when jit is used\u001B[39;00m\n\u001B[1;32m   1503\u001B[0m full_backward_hooks, non_full_backward_hooks \u001B[38;5;241m=\u001B[39m [], []\n",
      "File \u001B[0;32m~/.local/lib/python3.10/site-packages/torchvision/transforms/transforms.py:466\u001B[0m, in \u001B[0;36mPad.forward\u001B[0;34m(self, img)\u001B[0m\n\u001B[1;32m    458\u001B[0m \u001B[38;5;28;01mdef\u001B[39;00m \u001B[38;5;21mforward\u001B[39m(\u001B[38;5;28mself\u001B[39m, img):\n\u001B[1;32m    459\u001B[0m \u001B[38;5;250m    \u001B[39m\u001B[38;5;124;03m\"\"\"\u001B[39;00m\n\u001B[1;32m    460\u001B[0m \u001B[38;5;124;03m    Args:\u001B[39;00m\n\u001B[1;32m    461\u001B[0m \u001B[38;5;124;03m        img (PIL Image or Tensor): Image to be padded.\u001B[39;00m\n\u001B[0;32m   (...)\u001B[0m\n\u001B[1;32m    464\u001B[0m \u001B[38;5;124;03m        PIL Image or Tensor: Padded image.\u001B[39;00m\n\u001B[1;32m    465\u001B[0m \u001B[38;5;124;03m    \"\"\"\u001B[39;00m\n\u001B[0;32m--> 466\u001B[0m     \u001B[38;5;28;01mreturn\u001B[39;00m \u001B[43mF\u001B[49m\u001B[38;5;241;43m.\u001B[39;49m\u001B[43mpad\u001B[49m\u001B[43m(\u001B[49m\u001B[43mimg\u001B[49m\u001B[43m,\u001B[49m\u001B[43m \u001B[49m\u001B[38;5;28;43mself\u001B[39;49m\u001B[38;5;241;43m.\u001B[39;49m\u001B[43mpadding\u001B[49m\u001B[43m,\u001B[49m\u001B[43m \u001B[49m\u001B[38;5;28;43mself\u001B[39;49m\u001B[38;5;241;43m.\u001B[39;49m\u001B[43mfill\u001B[49m\u001B[43m,\u001B[49m\u001B[43m \u001B[49m\u001B[38;5;28;43mself\u001B[39;49m\u001B[38;5;241;43m.\u001B[39;49m\u001B[43mpadding_mode\u001B[49m\u001B[43m)\u001B[49m\n",
      "File \u001B[0;32m~/.local/lib/python3.10/site-packages/torchvision/transforms/functional.py:539\u001B[0m, in \u001B[0;36mpad\u001B[0;34m(img, padding, fill, padding_mode)\u001B[0m\n\u001B[1;32m    537\u001B[0m     _log_api_usage_once(pad)\n\u001B[1;32m    538\u001B[0m \u001B[38;5;28;01mif\u001B[39;00m \u001B[38;5;129;01mnot\u001B[39;00m \u001B[38;5;28misinstance\u001B[39m(img, torch\u001B[38;5;241m.\u001B[39mTensor):\n\u001B[0;32m--> 539\u001B[0m     \u001B[38;5;28;01mreturn\u001B[39;00m \u001B[43mF_pil\u001B[49m\u001B[38;5;241;43m.\u001B[39;49m\u001B[43mpad\u001B[49m\u001B[43m(\u001B[49m\u001B[43mimg\u001B[49m\u001B[43m,\u001B[49m\u001B[43m \u001B[49m\u001B[43mpadding\u001B[49m\u001B[38;5;241;43m=\u001B[39;49m\u001B[43mpadding\u001B[49m\u001B[43m,\u001B[49m\u001B[43m \u001B[49m\u001B[43mfill\u001B[49m\u001B[38;5;241;43m=\u001B[39;49m\u001B[43mfill\u001B[49m\u001B[43m,\u001B[49m\u001B[43m \u001B[49m\u001B[43mpadding_mode\u001B[49m\u001B[38;5;241;43m=\u001B[39;49m\u001B[43mpadding_mode\u001B[49m\u001B[43m)\u001B[49m\n\u001B[1;32m    541\u001B[0m \u001B[38;5;28;01mreturn\u001B[39;00m F_t\u001B[38;5;241m.\u001B[39mpad(img, padding\u001B[38;5;241m=\u001B[39mpadding, fill\u001B[38;5;241m=\u001B[39mfill, padding_mode\u001B[38;5;241m=\u001B[39mpadding_mode)\n",
      "File \u001B[0;32m~/.local/lib/python3.10/site-packages/torchvision/transforms/_functional_pil.py:152\u001B[0m, in \u001B[0;36mpad\u001B[0;34m(img, padding, fill, padding_mode)\u001B[0m\n\u001B[1;32m    143\u001B[0m \u001B[38;5;129m@torch\u001B[39m\u001B[38;5;241m.\u001B[39mjit\u001B[38;5;241m.\u001B[39munused\n\u001B[1;32m    144\u001B[0m \u001B[38;5;28;01mdef\u001B[39;00m \u001B[38;5;21mpad\u001B[39m(\n\u001B[1;32m    145\u001B[0m     img: Image\u001B[38;5;241m.\u001B[39mImage,\n\u001B[0;32m   (...)\u001B[0m\n\u001B[1;32m    148\u001B[0m     padding_mode: Literal[\u001B[38;5;124m\"\u001B[39m\u001B[38;5;124mconstant\u001B[39m\u001B[38;5;124m\"\u001B[39m, \u001B[38;5;124m\"\u001B[39m\u001B[38;5;124medge\u001B[39m\u001B[38;5;124m\"\u001B[39m, \u001B[38;5;124m\"\u001B[39m\u001B[38;5;124mreflect\u001B[39m\u001B[38;5;124m\"\u001B[39m, \u001B[38;5;124m\"\u001B[39m\u001B[38;5;124msymmetric\u001B[39m\u001B[38;5;124m\"\u001B[39m] \u001B[38;5;241m=\u001B[39m \u001B[38;5;124m\"\u001B[39m\u001B[38;5;124mconstant\u001B[39m\u001B[38;5;124m\"\u001B[39m,\n\u001B[1;32m    149\u001B[0m ) \u001B[38;5;241m-\u001B[39m\u001B[38;5;241m>\u001B[39m Image\u001B[38;5;241m.\u001B[39mImage:\n\u001B[1;32m    151\u001B[0m     \u001B[38;5;28;01mif\u001B[39;00m \u001B[38;5;129;01mnot\u001B[39;00m _is_pil_image(img):\n\u001B[0;32m--> 152\u001B[0m         \u001B[38;5;28;01mraise\u001B[39;00m \u001B[38;5;167;01mTypeError\u001B[39;00m(\u001B[38;5;124mf\u001B[39m\u001B[38;5;124m\"\u001B[39m\u001B[38;5;124mimg should be PIL Image. Got \u001B[39m\u001B[38;5;132;01m{\u001B[39;00m\u001B[38;5;28mtype\u001B[39m(img)\u001B[38;5;132;01m}\u001B[39;00m\u001B[38;5;124m\"\u001B[39m)\n\u001B[1;32m    154\u001B[0m     \u001B[38;5;28;01mif\u001B[39;00m \u001B[38;5;129;01mnot\u001B[39;00m \u001B[38;5;28misinstance\u001B[39m(padding, (numbers\u001B[38;5;241m.\u001B[39mNumber, \u001B[38;5;28mtuple\u001B[39m, \u001B[38;5;28mlist\u001B[39m)):\n\u001B[1;32m    155\u001B[0m         \u001B[38;5;28;01mraise\u001B[39;00m \u001B[38;5;167;01mTypeError\u001B[39;00m(\u001B[38;5;124m\"\u001B[39m\u001B[38;5;124mGot inappropriate padding arg\u001B[39m\u001B[38;5;124m\"\u001B[39m)\n",
      "\u001B[0;31mTypeError\u001B[0m: img should be PIL Image. Got <class 'utils.img_utils.ImageLoader'>"
     ]
    }
   ],
   "source": [
    "position = (80,100)\n",
    "patch_size = 30\n",
    "plot_images('images/kernel_exp/gt.png', blur_operator(ground_truth_image), single_kernel ,selected_patch=position, p_size=patch_size)\n",
    "plot_images('images/kernel_exp/mean.png', blur_operator_mean(ground_truth_image), mean_kernel, selected_patch=position, p_size=patch_size)\n",
    "plot_images('images/kernel_exp/gauss.png', blur_operator_gauss(ground_truth_image), gauss_kernel, selected_patch=position, p_size=patch_size)\n",
    "plot_images('kernel_exp/motion.png', blur_operator_motion(ground_truth_image), motion_kernel, selected_patch=position, p_size=patch_size)"
   ],
   "metadata": {
    "collapsed": false,
    "ExecuteTime": {
     "start_time": "2023-10-08T01:27:10.444970Z",
     "end_time": "2023-10-08T01:27:11.245470Z"
    }
   }
  },
  {
   "cell_type": "code",
   "execution_count": 7,
   "outputs": [
    {
     "ename": "RuntimeError",
     "evalue": "\"im2col_out_cpu\" not implemented for 'Byte'",
     "output_type": "error",
     "traceback": [
      "\u001B[0;31m---------------------------------------------------------------------------\u001B[0m",
      "\u001B[0;31mRuntimeError\u001B[0m                              Traceback (most recent call last)",
      "Cell \u001B[0;32mIn[7], line 2\u001B[0m\n\u001B[1;32m      1\u001B[0m patch_extractor \u001B[38;5;241m=\u001B[39m FastPatchExtractor(p_dim\u001B[38;5;241m=\u001B[39m\u001B[38;5;241m8\u001B[39m)\n\u001B[0;32m----> 2\u001B[0m patch \u001B[38;5;241m=\u001B[39m \u001B[43mpatch_extractor\u001B[49m\u001B[38;5;241;43m.\u001B[39;49m\u001B[43mextract\u001B[49m\u001B[43m(\u001B[49m\u001B[43mground_truth_image\u001B[49m\u001B[43m)\u001B[49m[\u001B[38;5;241m256\u001B[39m\u001B[38;5;241m*\u001B[39m\u001B[38;5;241m100\u001B[39m\u001B[38;5;241m+\u001B[39m\u001B[38;5;241m100\u001B[39m]\u001B[38;5;241m.\u001B[39mreshape((\u001B[38;5;241m8\u001B[39m,\u001B[38;5;241m8\u001B[39m))\n\u001B[1;32m      3\u001B[0m plt\u001B[38;5;241m.\u001B[39mimshow(patch, cmap\u001B[38;5;241m=\u001B[39m\u001B[38;5;124m'\u001B[39m\u001B[38;5;124mgray\u001B[39m\u001B[38;5;124m'\u001B[39m)\n\u001B[1;32m      4\u001B[0m plt\u001B[38;5;241m.\u001B[39mshow()\n",
      "File \u001B[0;32m~/Projects/nf-for-inv-problems/dataset/FastPatchExtractor.py:37\u001B[0m, in \u001B[0;36mFastPatchExtractor.extract\u001B[0;34m(self, image, batch_size)\u001B[0m\n\u001B[1;32m     35\u001B[0m     image \u001B[38;5;241m=\u001B[39m torch\u001B[38;5;241m.\u001B[39mcat((image, image[:, :, :\u001B[38;5;28mself\u001B[39m\u001B[38;5;241m.\u001B[39mpad_size, :]), \u001B[38;5;241m2\u001B[39m)\n\u001B[1;32m     36\u001B[0m     image \u001B[38;5;241m=\u001B[39m torch\u001B[38;5;241m.\u001B[39mcat((image, image[:, :, :, :\u001B[38;5;28mself\u001B[39m\u001B[38;5;241m.\u001B[39mpad_size]), \u001B[38;5;241m3\u001B[39m)\n\u001B[0;32m---> 37\u001B[0m patches \u001B[38;5;241m=\u001B[39m \u001B[38;5;28;43mself\u001B[39;49m\u001B[38;5;241;43m.\u001B[39;49m\u001B[43munfold\u001B[49m\u001B[43m(\u001B[49m\u001B[43mimage\u001B[49m\u001B[43m)\u001B[49m\u001B[38;5;241m.\u001B[39msqueeze(\u001B[38;5;241m0\u001B[39m)\u001B[38;5;241m.\u001B[39mtranspose(\u001B[38;5;241m1\u001B[39m, \u001B[38;5;241m0\u001B[39m)\n\u001B[1;32m     39\u001B[0m \u001B[38;5;28;01mif\u001B[39;00m batch_size:\n\u001B[1;32m     40\u001B[0m     idx \u001B[38;5;241m=\u001B[39m torch\u001B[38;5;241m.\u001B[39mrandperm(patches\u001B[38;5;241m.\u001B[39msize(\u001B[38;5;241m0\u001B[39m), device\u001B[38;5;241m=\u001B[39m\u001B[38;5;28mself\u001B[39m\u001B[38;5;241m.\u001B[39mdevice)[:batch_size]\n",
      "File \u001B[0;32m~/.local/lib/python3.10/site-packages/torch/nn/modules/module.py:1501\u001B[0m, in \u001B[0;36mModule._call_impl\u001B[0;34m(self, *args, **kwargs)\u001B[0m\n\u001B[1;32m   1496\u001B[0m \u001B[38;5;66;03m# If we don't have any hooks, we want to skip the rest of the logic in\u001B[39;00m\n\u001B[1;32m   1497\u001B[0m \u001B[38;5;66;03m# this function, and just call forward.\u001B[39;00m\n\u001B[1;32m   1498\u001B[0m \u001B[38;5;28;01mif\u001B[39;00m \u001B[38;5;129;01mnot\u001B[39;00m (\u001B[38;5;28mself\u001B[39m\u001B[38;5;241m.\u001B[39m_backward_hooks \u001B[38;5;129;01mor\u001B[39;00m \u001B[38;5;28mself\u001B[39m\u001B[38;5;241m.\u001B[39m_backward_pre_hooks \u001B[38;5;129;01mor\u001B[39;00m \u001B[38;5;28mself\u001B[39m\u001B[38;5;241m.\u001B[39m_forward_hooks \u001B[38;5;129;01mor\u001B[39;00m \u001B[38;5;28mself\u001B[39m\u001B[38;5;241m.\u001B[39m_forward_pre_hooks\n\u001B[1;32m   1499\u001B[0m         \u001B[38;5;129;01mor\u001B[39;00m _global_backward_pre_hooks \u001B[38;5;129;01mor\u001B[39;00m _global_backward_hooks\n\u001B[1;32m   1500\u001B[0m         \u001B[38;5;129;01mor\u001B[39;00m _global_forward_hooks \u001B[38;5;129;01mor\u001B[39;00m _global_forward_pre_hooks):\n\u001B[0;32m-> 1501\u001B[0m     \u001B[38;5;28;01mreturn\u001B[39;00m \u001B[43mforward_call\u001B[49m\u001B[43m(\u001B[49m\u001B[38;5;241;43m*\u001B[39;49m\u001B[43margs\u001B[49m\u001B[43m,\u001B[49m\u001B[43m \u001B[49m\u001B[38;5;241;43m*\u001B[39;49m\u001B[38;5;241;43m*\u001B[39;49m\u001B[43mkwargs\u001B[49m\u001B[43m)\u001B[49m\n\u001B[1;32m   1502\u001B[0m \u001B[38;5;66;03m# Do not call functions when jit is used\u001B[39;00m\n\u001B[1;32m   1503\u001B[0m full_backward_hooks, non_full_backward_hooks \u001B[38;5;241m=\u001B[39m [], []\n",
      "File \u001B[0;32m~/.local/lib/python3.10/site-packages/torch/nn/modules/fold.py:298\u001B[0m, in \u001B[0;36mUnfold.forward\u001B[0;34m(self, input)\u001B[0m\n\u001B[1;32m    297\u001B[0m \u001B[38;5;28;01mdef\u001B[39;00m \u001B[38;5;21mforward\u001B[39m(\u001B[38;5;28mself\u001B[39m, \u001B[38;5;28minput\u001B[39m: Tensor) \u001B[38;5;241m-\u001B[39m\u001B[38;5;241m>\u001B[39m Tensor:\n\u001B[0;32m--> 298\u001B[0m     \u001B[38;5;28;01mreturn\u001B[39;00m \u001B[43mF\u001B[49m\u001B[38;5;241;43m.\u001B[39;49m\u001B[43munfold\u001B[49m\u001B[43m(\u001B[49m\u001B[38;5;28;43minput\u001B[39;49m\u001B[43m,\u001B[49m\u001B[43m \u001B[49m\u001B[38;5;28;43mself\u001B[39;49m\u001B[38;5;241;43m.\u001B[39;49m\u001B[43mkernel_size\u001B[49m\u001B[43m,\u001B[49m\u001B[43m \u001B[49m\u001B[38;5;28;43mself\u001B[39;49m\u001B[38;5;241;43m.\u001B[39;49m\u001B[43mdilation\u001B[49m\u001B[43m,\u001B[49m\n\u001B[1;32m    299\u001B[0m \u001B[43m                    \u001B[49m\u001B[38;5;28;43mself\u001B[39;49m\u001B[38;5;241;43m.\u001B[39;49m\u001B[43mpadding\u001B[49m\u001B[43m,\u001B[49m\u001B[43m \u001B[49m\u001B[38;5;28;43mself\u001B[39;49m\u001B[38;5;241;43m.\u001B[39;49m\u001B[43mstride\u001B[49m\u001B[43m)\u001B[49m\n",
      "File \u001B[0;32m~/.local/lib/python3.10/site-packages/torch/nn/functional.py:4697\u001B[0m, in \u001B[0;36munfold\u001B[0;34m(input, kernel_size, dilation, padding, stride)\u001B[0m\n\u001B[1;32m   4693\u001B[0m \u001B[38;5;28;01mif\u001B[39;00m has_torch_function_unary(\u001B[38;5;28minput\u001B[39m):\n\u001B[1;32m   4694\u001B[0m     \u001B[38;5;28;01mreturn\u001B[39;00m handle_torch_function(\n\u001B[1;32m   4695\u001B[0m         unfold, (\u001B[38;5;28minput\u001B[39m,), \u001B[38;5;28minput\u001B[39m, kernel_size, dilation\u001B[38;5;241m=\u001B[39mdilation, padding\u001B[38;5;241m=\u001B[39mpadding, stride\u001B[38;5;241m=\u001B[39mstride\n\u001B[1;32m   4696\u001B[0m     )\n\u001B[0;32m-> 4697\u001B[0m \u001B[38;5;28;01mreturn\u001B[39;00m \u001B[43mtorch\u001B[49m\u001B[38;5;241;43m.\u001B[39;49m\u001B[43m_C\u001B[49m\u001B[38;5;241;43m.\u001B[39;49m\u001B[43m_nn\u001B[49m\u001B[38;5;241;43m.\u001B[39;49m\u001B[43mim2col\u001B[49m\u001B[43m(\u001B[49m\u001B[38;5;28;43minput\u001B[39;49m\u001B[43m,\u001B[49m\u001B[43m \u001B[49m\u001B[43m_pair\u001B[49m\u001B[43m(\u001B[49m\u001B[43mkernel_size\u001B[49m\u001B[43m)\u001B[49m\u001B[43m,\u001B[49m\u001B[43m \u001B[49m\u001B[43m_pair\u001B[49m\u001B[43m(\u001B[49m\u001B[43mdilation\u001B[49m\u001B[43m)\u001B[49m\u001B[43m,\u001B[49m\u001B[43m \u001B[49m\u001B[43m_pair\u001B[49m\u001B[43m(\u001B[49m\u001B[43mpadding\u001B[49m\u001B[43m)\u001B[49m\u001B[43m,\u001B[49m\u001B[43m \u001B[49m\u001B[43m_pair\u001B[49m\u001B[43m(\u001B[49m\u001B[43mstride\u001B[49m\u001B[43m)\u001B[49m\u001B[43m)\u001B[49m\n",
      "\u001B[0;31mRuntimeError\u001B[0m: \"im2col_out_cpu\" not implemented for 'Byte'"
     ]
    }
   ],
   "source": [
    "patch_extractor = FastPatchExtractor(p_dim=8)\n",
    "patch = patch_extractor.extract(ground_truth_image)[256*100+100].reshape((8,8))\n",
    "plt.imshow(patch, cmap='gray')\n",
    "plt.show()"
   ],
   "metadata": {
    "collapsed": false,
    "ExecuteTime": {
     "start_time": "2023-10-08T01:27:11.982025Z",
     "end_time": "2023-10-08T01:27:12.123077Z"
    }
   }
  },
  {
   "cell_type": "code",
   "execution_count": 8,
   "outputs": [],
   "source": [
    "kernel = mean_kernel_generator(3)\n",
    "kernel = kernel.squeeze()\n",
    "ker_w, ker_h = kernel.size()"
   ],
   "metadata": {
    "collapsed": false,
    "ExecuteTime": {
     "start_time": "2023-11-22T23:32:25.275493Z",
     "end_time": "2023-11-22T23:32:25.285785Z"
    }
   }
  },
  {
   "cell_type": "code",
   "execution_count": 14,
   "outputs": [],
   "source": [
    "w, h = patch.size()"
   ],
   "metadata": {
    "collapsed": false,
    "ExecuteTime": {
     "start_time": "2023-10-08T01:27:13.783208Z",
     "end_time": "2023-10-08T01:27:13.806809Z"
    }
   }
  },
  {
   "cell_type": "code",
   "execution_count": 15,
   "outputs": [
    {
     "name": "stdout",
     "output_type": "stream",
     "text": [
      "10 10\n"
     ]
    }
   ],
   "source": [
    "block_w = ker_w+w-1\n",
    "block_h = ker_h+h-1\n",
    "print(block_w, block_h)"
   ],
   "metadata": {
    "collapsed": false,
    "ExecuteTime": {
     "start_time": "2023-10-08T01:27:14.481103Z",
     "end_time": "2023-10-08T01:27:14.490197Z"
    }
   }
  },
  {
   "cell_type": "code",
   "execution_count": 1,
   "outputs": [],
   "source": [
    "\n",
    "import torch.nn.functional as F\n",
    "import torch"
   ],
   "metadata": {
    "collapsed": false,
    "ExecuteTime": {
     "start_time": "2023-10-08T15:44:59.414601Z",
     "end_time": "2023-10-08T15:45:00.995775Z"
    }
   }
  },
  {
   "cell_type": "code",
   "execution_count": 2,
   "outputs": [],
   "source": [
    "def get_2D_toeplitz(kernel, input_dims):\n",
    "    img_row, img_col = input_dims\n",
    "    k_row, k_col = kernel.size()\n",
    "    t_row = img_row-k_row+1\n",
    "    t_col = img_col-k_col+1\n",
    "    print(t_row, t_col)\n",
    "    padded_kernel = F.pad(kernel, pad=(0, t_col-k_col, 0, t_row-k_row))\n",
    "    pk_row, pk_col = padded_kernel.shape\n",
    "    toeplitz_blocks = [ toeplitz(row, pk_row) for row in padded_kernel]\n",
    "    res_col = torch.arange(1, len(toeplitz_blocks)+1)\n",
    "    res_row = torch.zeros()\n",
    "    res_row[0] = 1\n",
    "    shape = toeplitz(res_col, res_row).flatten('F')\n",
    "    zero_block = np.zeros((padded_kernel.size(1), t_row))\n",
    "    ordered_blocks = []\n",
    "    for block_id in shape:\n",
    "        if block_id == 0:\n",
    "            ordered_blocks.append(zero_block)\n",
    "        else:\n",
    "            ordered_blocks.append(toeplitz_blocks[block_id-1])\n",
    "    return np.vstack(np.dstack(np.stack(ordered_blocks).reshape((2,3,padded_kernel.size(0),t_row))))"
   ],
   "metadata": {
    "collapsed": false,
    "ExecuteTime": {
     "start_time": "2023-10-08T15:45:00.995660Z",
     "end_time": "2023-10-08T15:45:01.003826Z"
    }
   }
  },
  {
   "cell_type": "code",
   "execution_count": 3,
   "outputs": [
    {
     "ename": "NameError",
     "evalue": "name 'torch' is not defined",
     "output_type": "error",
     "traceback": [
      "\u001B[0;31m---------------------------------------------------------------------------\u001B[0m",
      "\u001B[0;31mNameError\u001B[0m                                 Traceback (most recent call last)",
      "Cell \u001B[0;32mIn[3], line 2\u001B[0m\n\u001B[1;32m      1\u001B[0m \u001B[38;5;66;03m#kernel = gaussian_kernel_generator(3, 1).squeeze()\u001B[39;00m\n\u001B[0;32m----> 2\u001B[0m kernel \u001B[38;5;241m=\u001B[39m \u001B[43mtorch\u001B[49m\u001B[38;5;241m.\u001B[39marange(\u001B[38;5;241m1\u001B[39m,\u001B[38;5;241m5\u001B[39m)\u001B[38;5;241m.\u001B[39mreshape((\u001B[38;5;241m2\u001B[39m,\u001B[38;5;241m2\u001B[39m))\n\u001B[1;32m      3\u001B[0m \u001B[38;5;28mprint\u001B[39m(kernel)\n",
      "\u001B[0;31mNameError\u001B[0m: name 'torch' is not defined"
     ]
    }
   ],
   "source": [
    "kernel = torch.arange(1,5).reshape((2,2))\n",
    "print(kernel)"
   ],
   "metadata": {
    "collapsed": false,
    "ExecuteTime": {
     "start_time": "2023-10-08T01:27:17.036190Z",
     "end_time": "2023-10-08T01:27:17.045689Z"
    }
   }
  },
  {
   "cell_type": "code",
   "execution_count": null,
   "outputs": [],
   "source": [
    "toeplitz_matrix = get_2D_toeplitz(kernel, (3,2))"
   ],
   "metadata": {
    "collapsed": false,
    "ExecuteTime": {
     "start_time": "2023-10-08T01:03:19.836227Z",
     "end_time": "2023-10-08T01:03:19.879520Z"
    }
   }
  },
  {
   "cell_type": "code",
   "execution_count": null,
   "outputs": [],
   "source": [
    "padded_kernel = F.pad(kernel, pad=(0, img_w-k_w, 0, img_h-k_h))"
   ],
   "metadata": {
    "collapsed": false,
    "ExecuteTime": {
     "start_time": "2023-10-08T01:23:49.519241Z",
     "end_time": "2023-10-08T01:23:49.531905Z"
    }
   }
  },
  {
   "cell_type": "code",
   "execution_count": null,
   "outputs": [],
   "source": [
    "padded_kernel.shape"
   ],
   "metadata": {
    "collapsed": false,
    "ExecuteTime": {
     "start_time": "2023-10-08T00:02:26.008668Z",
     "end_time": "2023-10-08T00:02:26.057498Z"
    }
   }
  },
  {
   "cell_type": "code",
   "execution_count": 407,
   "outputs": [
    {
     "data": {
      "text/plain": "tensor([[0.0000, 0.0000, 0.0000, 0.0000],\n        [0.0751, 0.1238, 0.0751, 0.0000],\n        [0.1238, 0.2042, 0.1238, 0.0000],\n        [0.0751, 0.1238, 0.0751, 0.0000]])"
     },
     "execution_count": 407,
     "metadata": {},
     "output_type": "execute_result"
    }
   ],
   "source": [
    "padded_kernel"
   ],
   "metadata": {
    "collapsed": false,
    "ExecuteTime": {
     "start_time": "2023-10-08T00:01:45.875009Z",
     "end_time": "2023-10-08T00:01:45.885860Z"
    }
   }
  },
  {
   "cell_type": "code",
   "execution_count": 401,
   "outputs": [
    {
     "name": "stdout",
     "output_type": "stream",
     "text": [
      "(16, 16)\n"
     ]
    }
   ],
   "source": [
    "from scipy.linalg import toeplitz\n",
    "import numpy as np\n",
    "toeplitz_col = padded_kernel.flatten()\n",
    "toeplitz_row = torch.zeros(toeplitz_col.size(0))\n",
    "toeplitz_row[0] = toeplitz_col[0]\n",
    "matrix = toeplitz(toeplitz_row, toeplitz_col)\n",
    "print(matrix.shape)\n",
    "matrix = np.delete(matrix, [16-i for i in range(1, (toeplitz_col.size(0)//2+1) + img_w - k_w)], 0)"
   ],
   "metadata": {
    "collapsed": false,
    "ExecuteTime": {
     "start_time": "2023-10-07T23:53:32.188100Z",
     "end_time": "2023-10-07T23:53:32.234535Z"
    }
   }
  },
  {
   "cell_type": "code",
   "execution_count": 402,
   "outputs": [
    {
     "data": {
      "text/plain": "<Figure size 640x480 with 1 Axes>",
      "image/png": "[encoded data removed]"
     },
     "metadata": {},
     "output_type": "display_data"
    }
   ],
   "source": [
    "plt.imshow(matrix, cmap='gray')\n",
    "plt.show()"
   ],
   "metadata": {
    "collapsed": false,
    "ExecuteTime": {
     "start_time": "2023-10-07T23:53:35.265856Z",
     "end_time": "2023-10-07T23:53:35.378487Z"
    }
   }
  },
  {
   "cell_type": "code",
   "execution_count": null,
   "outputs": [],
   "source": [],
   "metadata": {
    "collapsed": false
   }
  }
 ],
 "metadata": {
  "kernelspec": {
   "name": "nf-for-inv-problems-env",
   "language": "python",
   "display_name": "nf-for-inv-problems-env"
  },
  "language_info": {
   "codemirror_mode": {
    "name": "ipython",
    "version": 2
   },
   "file_extension": ".py",
   "mimetype": "text/x-python",
   "name": "python",
   "nbconvert_exporter": "python",
   "pygments_lexer": "ipython2",
   "version": "2.7.6"
  }
 },
 "nbformat": 4,
 "nbformat_minor": 0
}
