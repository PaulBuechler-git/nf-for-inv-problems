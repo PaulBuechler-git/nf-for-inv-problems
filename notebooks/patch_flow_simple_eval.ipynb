{
 "cells": [
  {
   "cell_type": "code",
   "execution_count": 5,
   "metadata": {
    "collapsed": true,
    "ExecuteTime": {
     "start_time": "2023-10-03T19:26:01.865339Z",
     "end_time": "2023-10-03T19:26:01.872378Z"
    }
   },
   "outputs": [],
   "source": [
    "import os\n",
    "import re\n",
    "import torchvision.transforms as transforms\n",
    "from matplotlib import pyplot as plt\n",
    "from normflows.distributions import DiagGaussian\n",
    "from dataset.TwoMoonDataset import TwoMoonDataset\n",
    "import torch\n",
    "from flow_models.PatchFlow import PatchFlow\n",
    "import torchvision as tv\n",
    "import numpy as np"
   ]
  },
  {
   "cell_type": "code",
   "execution_count": 6,
   "outputs": [],
   "source": [
    "model = 'patch_flow_simple'\n",
    "version = 1\n",
    "selected_checkpoint = 0"
   ],
   "metadata": {
    "collapsed": false,
    "ExecuteTime": {
     "start_time": "2023-10-03T19:26:02.568279Z",
     "end_time": "2023-10-03T19:26:02.575981Z"
    }
   }
  },
  {
   "cell_type": "code",
   "execution_count": 7,
   "outputs": [
    {
     "name": "stdout",
     "output_type": "stream",
     "text": [
      "h_params:../tb_logs/patch_flow_simple/version_1/hparams.yaml\n",
      "Checkpoint:../tb_logs/patch_flow_simple/version_1/checkpoints/epoch=0-step=1000.ckpt\n"
     ]
    }
   ],
   "source": [
    "regex = re.compile(r'epoch=(\\d+)-step=\\d+\\.ckpt')\n",
    "path_to_checkpoint = f'../tb_logs/{model}/version_{version}'\n",
    "h_params = f'{path_to_checkpoint}/hparams.yaml'\n",
    "checkpoints_path = f'{path_to_checkpoint}/checkpoints/'\n",
    "selected_checkpoint_file = None\n",
    "for filename in os.listdir(checkpoints_path):\n",
    "    match = regex.match(filename)\n",
    "    if match:\n",
    "        epoch_index = int(match.group(1))\n",
    "        if epoch_index == selected_checkpoint:\n",
    "            selected_checkpoint_file = filename\n",
    "checkpoint_path = os.path.join(checkpoints_path, selected_checkpoint_file)\n",
    "print(f'h_params:{h_params}')\n",
    "print(f'Checkpoint:{checkpoint_path}')"
   ],
   "metadata": {
    "collapsed": false,
    "ExecuteTime": {
     "start_time": "2023-10-03T19:26:03.448935Z",
     "end_time": "2023-10-03T19:26:03.456146Z"
    }
   }
  },
  {
   "cell_type": "code",
   "execution_count": 8,
   "outputs": [
    {
     "name": "stderr",
     "output_type": "stream",
     "text": [
      "/home/pb/.local/lib/python3.10/site-packages/torch/_tensor.py:677: UserWarning: torch.lu is deprecated in favor of torch.linalg.lu_factor / torch.linalg.lu_factor_ex and will be removed in a future PyTorch release.\n",
      "LU, pivots = torch.lu(A, compute_pivots)\n",
      "should be replaced with\n",
      "LU, pivots = torch.linalg.lu_factor(A, compute_pivots)\n",
      "and\n",
      "LU, pivots, info = torch.lu(A, compute_pivots, get_infos=True)\n",
      "should be replaced with\n",
      "LU, pivots, info = torch.linalg.lu_factor_ex(A, compute_pivots) (Triggered internally at ../aten/src/ATen/native/BatchLinearAlgebra.cpp:1991.)\n",
      "  LU, pivots, infos = torch._lu_with_info(\n"
     ]
    }
   ],
   "source": [
    "flow = PatchFlow.load_from_checkpoint(checkpoint_path=checkpoint_path, hparams_file=h_params, map_location='cpu')"
   ],
   "metadata": {
    "collapsed": false,
    "ExecuteTime": {
     "start_time": "2023-10-03T19:26:07.721090Z",
     "end_time": "2023-10-03T19:26:08.009847Z"
    }
   }
  },
  {
   "cell_type": "code",
   "execution_count": 14,
   "outputs": [
    {
     "data": {
      "text/plain": "(tensor([[[[-2.3711, -2.6707,  0.4181,  0.5576, -0.8522, -0.8708, -1.5871,\n            -1.3451],\n           [-2.3996, -2.3907,  0.1967, -0.0397, -0.8591, -0.9970, -1.6746,\n            -1.9422],\n           [-0.2001, -0.3092,  0.9779,  1.1660, -0.1103,  0.0905, -2.8229,\n            -2.7669],\n           [-0.2739, -0.4313,  0.7018,  0.3762, -0.2337, -0.5023, -2.8526,\n            -2.9772],\n           [-0.0991,  0.1841, -0.8067, -0.9636, -1.3137, -0.6981, -3.8486,\n            -3.7737],\n           [-0.3917, -0.9902, -0.8533, -1.1877, -1.4843, -2.0147, -3.6197,\n            -3.8289],\n           [-0.0257,  0.3134, -1.9022, -2.2052, -2.7945, -2.8224, -2.5856,\n            -2.3251],\n           [-0.2571, -0.8606, -1.9688, -2.2163, -2.7457, -2.9498, -2.4722,\n            -2.8344]]]], grad_fn=<ViewBackward0>),\n tensor([37.5685], grad_fn=<SubBackward0>))"
     },
     "execution_count": 14,
     "metadata": {},
     "output_type": "execute_result"
    }
   ],
   "source": [
    "flow.model.sample(1)"
   ],
   "metadata": {
    "collapsed": false,
    "ExecuteTime": {
     "start_time": "2023-10-03T19:29:38.630365Z",
     "end_time": "2023-10-03T19:29:38.704797Z"
    }
   }
  },
  {
   "cell_type": "code",
   "execution_count": 18,
   "outputs": [],
   "source": [
    "num_samples = 10\n",
    "samples = [flow.model.sample()[0].detach().numpy() for _ in range(num_samples)]"
   ],
   "metadata": {
    "collapsed": false,
    "ExecuteTime": {
     "start_time": "2023-10-03T19:30:58.223139Z",
     "end_time": "2023-10-03T19:30:58.500163Z"
    }
   }
  },
  {
   "cell_type": "code",
   "execution_count": 19,
   "outputs": [
    {
     "data": {
      "text/plain": "<Figure size 1000x500 with 10 Axes>",
      "image/png": "[encoded data removed]"
     },
     "metadata": {},
     "output_type": "display_data"
    }
   ],
   "source": [
    "fig, axes = plt.subplots(1, num_samples, figsize=(10, 5))\n",
    "for i in range(num_samples):\n",
    "    axes[i].imshow(samples[i].squeeze(), cmap='gray')\n",
    "    axes[i].axis('off')\n",
    "plt.tight_layout()\n",
    "plt.show()"
   ],
   "metadata": {
    "collapsed": false,
    "ExecuteTime": {
     "start_time": "2023-10-03T19:30:59.403096Z",
     "end_time": "2023-10-03T19:30:59.690680Z"
    }
   }
  },
  {
   "cell_type": "code",
   "execution_count": null,
   "outputs": [],
   "source": [],
   "metadata": {
    "collapsed": false
   }
  }
 ],
 "metadata": {
  "kernelspec": {
   "name": "nf-for-inv-problems-env",
   "language": "python",
   "display_name": "nf-for-inv-problems-env"
  },
  "language_info": {
   "codemirror_mode": {
    "name": "ipython",
    "version": 2
   },
   "file_extension": ".py",
   "mimetype": "text/x-python",
   "name": "python",
   "nbconvert_exporter": "python",
   "pygments_lexer": "ipython2",
   "version": "2.7.6"
  }
 },
 "nbformat": 4,
 "nbformat_minor": 0
}
