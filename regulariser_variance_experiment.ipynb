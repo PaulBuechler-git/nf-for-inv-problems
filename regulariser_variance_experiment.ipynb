{
 "cells": [
  {
   "cell_type": "code",
   "execution_count": 1,
   "metadata": {
    "collapsed": true,
    "ExecuteTime": {
     "start_time": "2023-10-24T10:59:44.258566Z",
     "end_time": "2023-10-24T10:59:46.134785Z"
    }
   },
   "outputs": [],
   "source": [
    "import math\n",
    "import time\n",
    "import sqlite3\n",
    "import matplotlib.pyplot as plt\n",
    "import numpy as np\n",
    "import torch\n",
    "import torch.nn.functional as F\n",
    "from torchvision import transforms\n",
    "from tqdm import tqdm\n",
    "\n",
    "import patch_nr_paper_model\n",
    "import utils_patch_nr_paper\n",
    "from dataset.FastPatchExtractor import FastImageLoader\n",
    "from flow_models.PatchFlowModel import PatchFlowModel\n",
    "from regularisers import PatchNrRegulariser"
   ]
  },
  {
   "cell_type": "code",
   "execution_count": 2,
   "outputs": [
    {
     "name": "stdout",
     "output_type": "stream",
     "text": [
      "Using Device: cuda\n"
     ]
    }
   ],
   "source": [
    "DEVICE = torch.device('cuda' if torch.cuda.is_available() else 'cpu')\n",
    "print(f'Using Device: {DEVICE}')"
   ],
   "metadata": {
    "collapsed": false,
    "ExecuteTime": {
     "start_time": "2023-10-24T10:59:51.446785Z",
     "end_time": "2023-10-24T10:59:51.468435Z"
    }
   }
  },
  {
   "cell_type": "code",
   "execution_count": null,
   "outputs": [],
   "source": [
    "model_path = 'results/patch_nr/custom_patch_nr/version_3/custom_patch_nr_final.pth'\n",
    "image_path = 'data/material_pt_nr/train.png'\n",
    "name = 'material_prior_variance_experiment'\n",
    "result_path = 'results/prior_variance/'\n",
    "start = 1000\n",
    "end = 150000\n",
    "step_size = 10000\n",
    "samples_per_step = 200"
   ],
   "metadata": {
    "collapsed": false
   }
  },
  {
   "cell_type": "code",
   "execution_count": null,
   "outputs": [],
   "source": [],
   "metadata": {
    "collapsed": false
   }
  },
  {
   "cell_type": "code",
   "execution_count": null,
   "outputs": [],
   "source": [
    "model = PatchFlowModel(path=model_path)\n",
    "patch_size = int(math.sqrt(model.hparams['dimension']))"
   ],
   "metadata": {
    "collapsed": false
   }
  },
  {
   "cell_type": "code",
   "execution_count": null,
   "outputs": [],
   "source": [
    "normalization = transforms.Compose([transforms.Normalize([0, ], [255., ])])\n",
    "image_loader = FastImageLoader(image_path, device=DEVICE, transform=normalization)\n",
    "ground_truth = image_loader[0].to(DEVICE)"
   ],
   "metadata": {
    "collapsed": false
   }
  },
  {
   "cell_type": "code",
   "execution_count": null,
   "outputs": [],
   "source": [
    "steps = [i for i in range(start, end, step_size)]"
   ],
   "metadata": {
    "collapsed": false
   }
  },
  {
   "cell_type": "code",
   "execution_count": null,
   "outputs": [],
   "source": [
    "res = []\n",
    "times = []\n",
    "for current_step in range(start, end, step_size):\n",
    "    custom_regulariser = PatchNrRegulariser(model, p_size=patch_size, sample_number=current_step, padding=True, padding_size=16, device=DEVICE)\n",
    "    values = []\n",
    "    start_time = time.time()\n",
    "    for i in tqdm(range(250)):\n",
    "        custom_val = custom_regulariser.evaluate(ground_truth)\n",
    "        values.append(custom_val.item())\n",
    "    end_time = time.time()\n",
    "    values = torch.tensor(values)\n",
    "    val_min = torch.min(values)\n",
    "    val_mean = torch.mean(values)\n",
    "    val_max = torch.max(values)\n",
    "    res.append((val_min, val_mean, val_max))\n",
    "    times.append(end_time-start_time)"
   ],
   "metadata": {
    "collapsed": false
   }
  }
 ],
 "metadata": {
  "kernelspec": {
   "display_name": "Python 3",
   "language": "python",
   "name": "python3"
  },
  "language_info": {
   "codemirror_mode": {
    "name": "ipython",
    "version": 2
   },
   "file_extension": ".py",
   "mimetype": "text/x-python",
   "name": "python",
   "nbconvert_exporter": "python",
   "pygments_lexer": "ipython2",
   "version": "2.7.6"
  }
 },
 "nbformat": 4,
 "nbformat_minor": 0
}
