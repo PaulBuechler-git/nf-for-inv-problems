{
 "cells": [
  {
   "cell_type": "code",
   "execution_count": 1,
   "metadata": {
    "collapsed": true,
    "ExecuteTime": {
     "start_time": "2023-09-28T19:49:02.835005Z",
     "end_time": "2023-09-28T19:49:03.950358Z"
    }
   },
   "outputs": [],
   "source": [
    "import torch\n",
    "from torchvision import transforms\n",
    "\n",
    "from dataset.PatchDataset import PatchDataset"
   ]
  },
  {
   "cell_type": "code",
   "execution_count": 9,
   "outputs": [
    {
     "name": "stdout",
     "output_type": "stream",
     "text": [
      "2741760\n",
      "2864160\n"
     ]
    }
   ],
   "source": [
    "dims = 7**2\n",
    "add_noise = 1\n",
    "noise_dist = torch.distributions.MultivariateNormal(torch.zeros(dims), torch.eye(dims))\n",
    "p_dims = (7,7)\n",
    "transform = transforms.Compose([\n",
    "        transforms.Grayscale(num_output_channels=1),\n",
    "        transforms.Lambda(lambda patch: torch.clip(patch + noise_dist.sample().reshape((1, *p_dims)), 0, 255)),\n",
    "        transforms.Lambda(lambda patch: patch / 255.0),\n",
    "        transforms.Lambda(lambda patch: patch.flatten())])\n",
    "train_data_set = PatchDataset('../data/DIV2K/train', p_dims, transform=transform, pad=True, pad_mode=\"constant\")\n",
    "for i in train_data_set.p_extractors:\n",
    "        print(len(i))"
   ],
   "metadata": {
    "collapsed": false,
    "ExecuteTime": {
     "start_time": "2023-09-28T19:51:17.625063Z",
     "end_time": "2023-09-28T19:51:17.820050Z"
    }
   }
  },
  {
   "cell_type": "code",
   "execution_count": 7,
   "outputs": [
    {
     "name": "stdout",
     "output_type": "stream",
     "text": [
      "122399\n"
     ]
    },
    {
     "ename": "IndexError",
     "evalue": "list index out of range",
     "output_type": "error",
     "traceback": [
      "\u001B[0;31m---------------------------------------------------------------------------\u001B[0m",
      "\u001B[0;31mIndexError\u001B[0m                                Traceback (most recent call last)",
      "Cell \u001B[0;32mIn[7], line 1\u001B[0m\n\u001B[0;32m----> 1\u001B[0m \u001B[43mtrain_data_set\u001B[49m\u001B[43m[\u001B[49m\u001B[38;5;28;43mlen\u001B[39;49m\u001B[43m(\u001B[49m\u001B[43mtrain_data_set\u001B[49m\u001B[43m)\u001B[49m\u001B[38;5;241;43m-\u001B[39;49m\u001B[38;5;241;43m1\u001B[39;49m\u001B[43m]\u001B[49m\n",
      "File \u001B[0;32m~/Projects/nf-for-inv-problems/dataset/PatchDataset.py:54\u001B[0m, in \u001B[0;36mPatchDataset.__getitem__\u001B[0;34m(self, index)\u001B[0m\n\u001B[1;32m     53\u001B[0m \u001B[38;5;28;01mdef\u001B[39;00m \u001B[38;5;21m__getitem__\u001B[39m(\u001B[38;5;28mself\u001B[39m, index):\n\u001B[0;32m---> 54\u001B[0m     patch, _, _, _ \u001B[38;5;241m=\u001B[39m \u001B[38;5;28;43mself\u001B[39;49m\u001B[38;5;241;43m.\u001B[39;49m\u001B[43mget_patch_by_index\u001B[49m\u001B[43m(\u001B[49m\u001B[43mindex\u001B[49m\u001B[43m)\u001B[49m\n\u001B[1;32m     55\u001B[0m     \u001B[38;5;28;01mif\u001B[39;00m \u001B[38;5;28mself\u001B[39m\u001B[38;5;241m.\u001B[39mtransform:\n\u001B[1;32m     56\u001B[0m         patch \u001B[38;5;241m=\u001B[39m \u001B[38;5;28mself\u001B[39m\u001B[38;5;241m.\u001B[39mtransform(patch)\n",
      "File \u001B[0;32m~/Projects/nf-for-inv-problems/dataset/PatchDataset.py:50\u001B[0m, in \u001B[0;36mPatchDataset.get_patch_by_index\u001B[0;34m(self, index)\u001B[0m\n\u001B[1;32m     48\u001B[0m p_index \u001B[38;5;241m=\u001B[39m index \u001B[38;5;241m%\u001B[39m flattened_index_range\n\u001B[1;32m     49\u001B[0m \u001B[38;5;28mprint\u001B[39m(p_index)\n\u001B[0;32m---> 50\u001B[0m patch \u001B[38;5;241m=\u001B[39m \u001B[38;5;28;43mself\u001B[39;49m\u001B[38;5;241;43m.\u001B[39;49m\u001B[43mp_extractors\u001B[49m\u001B[43m[\u001B[49m\u001B[43mpe_index\u001B[49m\u001B[43m]\u001B[49m[p_index]\n\u001B[1;32m     51\u001B[0m \u001B[38;5;28;01mreturn\u001B[39;00m patch, index, pe_index, p_index\n",
      "\u001B[0;31mIndexError\u001B[0m: list index out of range"
     ]
    }
   ],
   "source": [
    "train_data_set[len(train_data_set)-1]\n"
   ],
   "metadata": {
    "collapsed": false,
    "ExecuteTime": {
     "start_time": "2023-09-28T19:49:18.354422Z",
     "end_time": "2023-09-28T19:49:18.360048Z"
    }
   }
  },
  {
   "cell_type": "code",
   "execution_count": null,
   "outputs": [],
   "source": [],
   "metadata": {
    "collapsed": false
   }
  }
 ],
 "metadata": {
  "kernelspec": {
   "name": "nf-for-inv-problems-env",
   "language": "python",
   "display_name": "nf-for-inv-problems-env"
  },
  "language_info": {
   "codemirror_mode": {
    "name": "ipython",
    "version": 2
   },
   "file_extension": ".py",
   "mimetype": "text/x-python",
   "name": "python",
   "nbconvert_exporter": "python",
   "pygments_lexer": "ipython2",
   "version": "2.7.6"
  }
 },
 "nbformat": 4,
 "nbformat_minor": 0
}
