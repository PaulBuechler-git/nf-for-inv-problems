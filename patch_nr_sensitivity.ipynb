{
 "cells": [
  {
   "cell_type": "code",
   "execution_count": 1,
   "outputs": [],
   "source": [
    "import matplotlib.pyplot as plt\n",
    "import numpy as np\n",
    "import torch\n",
    "import torchvision.transforms as T\n",
    "from tqdm import tqdm\n",
    "from flow_models.PatchNrFlowModel import PatchNrFlowModel\n",
    "from img_utils import ImageLoader\n",
    "from regularisers import PatchNrRegulariser\n",
    "from transforms import image_normalization"
   ],
   "metadata": {
    "collapsed": false,
    "ExecuteTime": {
     "start_time": "2023-10-18T22:12:51.599351Z",
     "end_time": "2023-10-18T22:12:58.235538Z"
    }
   }
  },
  {
   "cell_type": "code",
   "execution_count": 17,
   "outputs": [
    {
     "name": "stdout",
     "output_type": "stream",
     "text": [
      "Using Device: cuda\n"
     ]
    }
   ],
   "source": [
    "DEVICE = torch.device('cuda' if torch.cuda.is_available() else 'cpu')\n",
    "print(f'Using Device: {DEVICE}')"
   ],
   "metadata": {
    "collapsed": false,
    "ExecuteTime": {
     "start_time": "2023-10-18T22:17:13.985767Z",
     "end_time": "2023-10-18T22:17:14.027068Z"
    }
   }
  },
  {
   "cell_type": "code",
   "execution_count": 18,
   "outputs": [],
   "source": [
    "patch_size = 6"
   ],
   "metadata": {
    "collapsed": false,
    "ExecuteTime": {
     "start_time": "2023-10-18T22:17:14.790052Z",
     "end_time": "2023-10-18T22:17:14.797579Z"
    }
   }
  },
  {
   "cell_type": "code",
   "execution_count": 19,
   "outputs": [
    {
     "name": "stdout",
     "output_type": "stream",
     "text": [
      "5 512 36\n"
     ]
    }
   ],
   "source": [
    "neu_model = PatchNrFlowModel('patchNR/patchNR_weights/weights_material.pth', device=DEVICE)"
   ],
   "metadata": {
    "collapsed": false,
    "ExecuteTime": {
     "start_time": "2023-10-18T22:17:15.475736Z",
     "end_time": "2023-10-18T22:17:15.542644Z"
    }
   }
  },
  {
   "cell_type": "code",
   "execution_count": 20,
   "outputs": [],
   "source": [
    "regularizer = PatchNrRegulariser(neu_model, p_size=patch_size, sample_number=50000, device=DEVICE)"
   ],
   "metadata": {
    "collapsed": false,
    "ExecuteTime": {
     "start_time": "2023-10-18T22:17:16.380426Z",
     "end_time": "2023-10-18T22:17:16.384397Z"
    }
   }
  },
  {
   "cell_type": "code",
   "execution_count": 21,
   "outputs": [],
   "source": [
    "def get_ref_values(image, regularizer, sigma=np.linspace(0,5, 40), device='cpu'):\n",
    "    regularizer_values = []\n",
    "    mu = 0\n",
    "    c, h, w = image.shape\n",
    "    for i in tqdm(sigma):\n",
    "        noise_vector = normalization(torch.reshape(torch.tensor(np.random.normal(mu, i, h*w), dtype=torch.float, device=device), (1, w, h)))\n",
    "        img = image + noise_vector\n",
    "        reg_value = regularizer.evaluate(img)\n",
    "        regularizer_values.append(reg_value.item())\n",
    "    return regularizer_values\n"
   ],
   "metadata": {
    "collapsed": false,
    "ExecuteTime": {
     "start_time": "2023-10-18T22:17:17.304115Z",
     "end_time": "2023-10-18T22:17:17.312848Z"
    }
   }
  },
  {
   "cell_type": "code",
   "execution_count": 22,
   "outputs": [],
   "source": [
    "normalization = T.Compose([image_normalization()])"
   ],
   "metadata": {
    "collapsed": false,
    "ExecuteTime": {
     "start_time": "2023-10-18T22:17:18.082992Z",
     "end_time": "2023-10-18T22:17:18.090019Z"
    }
   }
  },
  {
   "cell_type": "code",
   "execution_count": 23,
   "outputs": [],
   "source": [
    "image_loader = ImageLoader('data/material_pt_nr/testset_superres', device=DEVICE, transform=normalization)"
   ],
   "metadata": {
    "collapsed": false,
    "ExecuteTime": {
     "start_time": "2023-10-18T22:17:18.849774Z",
     "end_time": "2023-10-18T22:17:19.830587Z"
    }
   }
  },
  {
   "cell_type": "code",
   "execution_count": 24,
   "outputs": [],
   "source": [
    "x = np.linspace(0, 30, 40)"
   ],
   "metadata": {
    "collapsed": false,
    "ExecuteTime": {
     "start_time": "2023-10-18T22:17:24.881769Z",
     "end_time": "2023-10-18T22:17:24.923178Z"
    }
   }
  },
  {
   "cell_type": "code",
   "execution_count": 25,
   "outputs": [
    {
     "name": "stderr",
     "output_type": "stream",
     "text": [
      "100%|██████████| 40/40 [00:04<00:00,  8.93it/s]\n",
      "100%|██████████| 40/40 [00:04<00:00,  8.97it/s]\n",
      "100%|██████████| 40/40 [00:04<00:00,  8.90it/s]\n",
      "100%|██████████| 40/40 [00:04<00:00,  8.81it/s]\n",
      "100%|██████████| 40/40 [00:04<00:00,  8.73it/s]\n",
      "100%|██████████| 40/40 [00:04<00:00,  8.56it/s]\n",
      "100%|██████████| 40/40 [00:04<00:00,  8.46it/s]\n",
      "100%|██████████| 40/40 [00:04<00:00,  8.39it/s]\n",
      "100%|██████████| 40/40 [00:04<00:00,  8.39it/s]\n",
      "100%|██████████| 40/40 [00:04<00:00,  8.63it/s]\n",
      "100%|██████████| 40/40 [00:04<00:00,  8.71it/s]\n",
      "100%|██████████| 40/40 [00:04<00:00,  8.80it/s]\n",
      "100%|██████████| 40/40 [00:04<00:00,  8.88it/s]\n",
      "100%|██████████| 40/40 [00:04<00:00,  8.92it/s]\n",
      "100%|██████████| 40/40 [00:04<00:00,  8.96it/s]\n",
      "100%|██████████| 40/40 [00:04<00:00,  8.98it/s]\n",
      "100%|██████████| 40/40 [00:04<00:00,  8.95it/s]\n",
      "100%|██████████| 40/40 [00:04<00:00,  8.97it/s]\n",
      "100%|██████████| 40/40 [00:04<00:00,  8.94it/s]\n",
      "100%|██████████| 40/40 [00:04<00:00,  8.88it/s]\n",
      "100%|██████████| 40/40 [00:04<00:00,  8.86it/s]\n",
      "100%|██████████| 40/40 [00:04<00:00,  8.52it/s]\n",
      "100%|██████████| 40/40 [00:04<00:00,  8.82it/s]\n",
      "100%|██████████| 40/40 [00:04<00:00,  8.78it/s]\n",
      "100%|██████████| 40/40 [00:04<00:00,  8.76it/s]\n",
      "100%|██████████| 40/40 [00:04<00:00,  8.82it/s]\n",
      "100%|██████████| 40/40 [00:04<00:00,  8.82it/s]\n",
      "100%|██████████| 40/40 [00:04<00:00,  8.85it/s]\n",
      "100%|██████████| 40/40 [00:04<00:00,  8.87it/s]\n",
      "100%|██████████| 40/40 [00:04<00:00,  8.86it/s]\n"
     ]
    }
   ],
   "source": [
    "values = []\n",
    "for i in range(30):\n",
    "    values.append(get_ref_values(image_loader[i].to(DEVICE), regularizer, x, device=DEVICE))"
   ],
   "metadata": {
    "collapsed": false,
    "ExecuteTime": {
     "start_time": "2023-10-18T22:17:25.805001Z",
     "end_time": "2023-10-18T22:19:42.539724Z"
    }
   }
  },
  {
   "cell_type": "code",
   "execution_count": 26,
   "outputs": [],
   "source": [
    "values_npy = np.array(values)"
   ],
   "metadata": {
    "collapsed": false,
    "ExecuteTime": {
     "start_time": "2023-10-18T22:19:45.668886Z",
     "end_time": "2023-10-18T22:19:45.679548Z"
    }
   }
  },
  {
   "cell_type": "code",
   "execution_count": 27,
   "outputs": [],
   "source": [
    "np.save('results/regulariser_eval/noise_sensitivity.npy', values)"
   ],
   "metadata": {
    "collapsed": false,
    "ExecuteTime": {
     "start_time": "2023-10-18T22:19:46.420433Z",
     "end_time": "2023-10-18T22:19:46.425627Z"
    }
   }
  },
  {
   "cell_type": "code",
   "execution_count": 28,
   "outputs": [
    {
     "name": "stdout",
     "output_type": "stream",
     "text": [
      "torch.Size([30, 40])\n"
     ]
    }
   ],
   "source": [
    "loaded_values =np.load('results/regulariser_eval/noise_sensitivity.npy')\n",
    "t_tesor = torch.tensor(loaded_values)\n",
    "maxes = []\n",
    "mins = []\n",
    "means = []\n",
    "print(t_tesor.shape)\n",
    "for i in range(len(x)):\n",
    "    maxes.append(torch.max(t_tesor[:,i]).item())\n",
    "    mins.append(torch.min(t_tesor[:,i]).item())\n",
    "    means.append(torch.mean(t_tesor[:,i]).item())"
   ],
   "metadata": {
    "collapsed": false,
    "ExecuteTime": {
     "start_time": "2023-10-18T22:19:47.273650Z",
     "end_time": "2023-10-18T22:19:47.284659Z"
    }
   }
  },
  {
   "cell_type": "code",
   "execution_count": 29,
   "outputs": [
    {
     "data": {
      "text/plain": "<Figure size 700x400 with 1 Axes>",
      "image/png": "[encoded data removed]"
     },
     "metadata": {},
     "output_type": "display_data"
    }
   ],
   "source": [
    "plt.figure(figsize=(7, 4))\n",
    "plt.plot(x, means, label='Mean', linestyle='-', marker='o', markersize=4, color='blue')\n",
    "plt.fill_between(x, mins, maxes, color='cornflowerblue', alpha=0.5, label='Min-Max Range')\n",
    "#plt.plot(x2, means2, label='Mean', linestyle='-', marker='o', markersize=4, color='red')\n",
    "#plt.fill_between(x2, mins2, maxes2, color='salmon', alpha=0.5, label='Min-Max Range')\n",
    "#plt.axvline(x = 50000, color = 'g')\n",
    "plt.legend()\n",
    "plt.xlabel('noise std')\n",
    "plt.ylabel('regulariser value')\n",
    "plt.grid(True)\n",
    "plt.show()"
   ],
   "metadata": {
    "collapsed": false,
    "ExecuteTime": {
     "start_time": "2023-10-18T22:19:48.523339Z",
     "end_time": "2023-10-18T22:19:48.774394Z"
    }
   }
  },
  {
   "cell_type": "code",
   "execution_count": null,
   "outputs": [],
   "source": [],
   "metadata": {
    "collapsed": false,
    "ExecuteTime": {
     "start_time": "2023-10-18T20:00:34.618832Z",
     "end_time": "2023-10-18T20:00:34.622183Z"
    }
   }
  },
  {
   "cell_type": "code",
   "execution_count": null,
   "outputs": [],
   "source": [],
   "metadata": {
    "collapsed": false,
    "ExecuteTime": {
     "start_time": "2023-10-18T20:00:35.847029Z",
     "end_time": "2023-10-18T20:00:36.154620Z"
    }
   }
  },
  {
   "cell_type": "code",
   "execution_count": null,
   "outputs": [],
   "source": [],
   "metadata": {
    "collapsed": false
   }
  }
 ],
 "metadata": {
  "kernelspec": {
   "name": "python3",
   "language": "python",
   "display_name": "Python 3"
  },
  "language_info": {
   "codemirror_mode": {
    "name": "ipython",
    "version": 2
   },
   "file_extension": ".py",
   "mimetype": "text/x-python",
   "name": "python",
   "nbconvert_exporter": "python",
   "pygments_lexer": "ipython2",
   "version": "2.7.6"
  }
 },
 "nbformat": 4,
 "nbformat_minor": 0
}
