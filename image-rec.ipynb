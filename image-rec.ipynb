{
 "cells": [
  {
   "cell_type": "code",
   "execution_count": 6,
   "metadata": {
    "collapsed": true,
    "ExecuteTime": {
     "start_time": "2023-09-22T20:52:21.427033Z",
     "end_time": "2023-09-22T20:52:21.433549Z"
    }
   },
   "outputs": [],
   "source": [
    "import os\n",
    "import torch\n",
    "import matplotlib.pyplot as plt\n",
    "from tqdm import tqdm\n",
    "from torch.utils.data import DataLoader\n",
    "from models.PatchNr import create_NF\n",
    "import datetime\n",
    "from PatchDataset import PatchDataset\n",
    "from torchvision import transforms\n",
    "DEVICE = torch.device('cuda' if torch.cuda.is_available() else 'cpu')"
   ]
  },
  {
   "cell_type": "code",
   "execution_count": 7,
   "outputs": [],
   "source": [
    "def show_patch(patch, dims):\n",
    "    plt.imshow(patch.reshape(*dims), cmap='gray', vmin=0, vmax=1)\n",
    "    plt.axis('off')\n",
    "    plt.show()"
   ],
   "metadata": {
    "collapsed": false,
    "ExecuteTime": {
     "start_time": "2023-09-22T21:22:17.078546Z",
     "end_time": "2023-09-22T21:22:17.090905Z"
    }
   }
  },
  {
   "cell_type": "code",
   "execution_count": 8,
   "outputs": [],
   "source": [
    "p_size = 6\n",
    "p_dims = (p_size, p_size)\n",
    "batch_size = 32\n",
    "channels = 1\n",
    "net_dims = p_size**2\n",
    "data_dims = (batch_size, 1, *p_dims)\n",
    "layers = 5\n",
    "hidden_nodes = 512\n",
    "optimizer_steps = 1000\n",
    "learning_rate = 1e-4\n",
    "current_time = datetime.datetime.now().strftime('%Y-%m-%d_%H-%M-%S')"
   ],
   "metadata": {
    "collapsed": false,
    "ExecuteTime": {
     "start_time": "2023-09-22T21:22:18.014217Z",
     "end_time": "2023-09-22T21:22:18.025410Z"
    }
   }
  },
  {
   "cell_type": "code",
   "execution_count": 9,
   "outputs": [
    {
     "name": "stdout",
     "output_type": "stream",
     "text": [
      "The training set consists of 375000 patches with dimensions torch.Size([32, 36])\n",
      "dType torch.float32\n"
     ]
    }
   ],
   "source": [
    "transform = transforms.Compose([transforms.Lambda(lambda patch: patch / 255.0),\n",
    "                                transforms.Lambda(lambda patch: patch.to(DEVICE)),\n",
    "                                 transforms.Lambda(lambda patch: patch.flatten())])\n",
    "training_data_set = PatchDataset('./data/set12/train', p_dims, transform=transform, device=DEVICE)\n",
    "training_data_loader = DataLoader(training_data_set, batch_size=batch_size, shuffle=True, )\n",
    "training_data_loader_iter = iter(training_data_loader)\n",
    "first_batch = next(training_data_loader_iter)\n",
    "# show_patch(first_batch[20], p_dims)\n",
    "\n",
    "print(f'The training set consists of {len(training_data_set)} patches with dimensions {first_batch.shape}')\n",
    "print(f'dType {first_batch.dtype}')\n",
    "\n",
    "test_data_set = PatchDataset('./data/set12/train', p_dims, transform=transform)\n",
    "test_data_loader = DataLoader(test_data_set, batch_size=batch_size, shuffle=True)\n",
    "test_data_loader_iter = iter(test_data_loader)"
   ],
   "metadata": {
    "collapsed": false,
    "ExecuteTime": {
     "start_time": "2023-09-22T21:22:18.827087Z",
     "end_time": "2023-09-22T21:22:18.882802Z"
    }
   }
  },
  {
   "cell_type": "code",
   "execution_count": 10,
   "outputs": [
    {
     "name": "stdout",
     "output_type": "stream",
     "text": [
      "Learning on device cuda\n"
     ]
    },
    {
     "ename": "FileNotFoundError",
     "evalue": "[Errno 2] No such file or directory: './model-states/2023-09-22_19-22-18'",
     "output_type": "error",
     "traceback": [
      "\u001B[0;31m---------------------------------------------------------------------------\u001B[0m",
      "\u001B[0;31mFileNotFoundError\u001B[0m                         Traceback (most recent call last)",
      "Cell \u001B[0;32mIn[10], line 12\u001B[0m\n\u001B[1;32m     10\u001B[0m state_dir \u001B[38;5;241m=\u001B[39m \u001B[38;5;124mf\u001B[39m\u001B[38;5;124m'\u001B[39m\u001B[38;5;124m./model-states/\u001B[39m\u001B[38;5;132;01m{\u001B[39;00mcurrent_time\u001B[38;5;132;01m}\u001B[39;00m\u001B[38;5;124m'\u001B[39m\n\u001B[1;32m     11\u001B[0m \u001B[38;5;28;01mif\u001B[39;00m \u001B[38;5;129;01mnot\u001B[39;00m os\u001B[38;5;241m.\u001B[39mpath\u001B[38;5;241m.\u001B[39misdir(state_dir):\n\u001B[0;32m---> 12\u001B[0m     \u001B[43mos\u001B[49m\u001B[38;5;241;43m.\u001B[39;49m\u001B[43mmkdir\u001B[49m\u001B[43m(\u001B[49m\u001B[43mstate_dir\u001B[49m\u001B[43m)\u001B[49m\n\u001B[1;32m     14\u001B[0m \u001B[38;5;28;01mfor\u001B[39;00m it \u001B[38;5;129;01min\u001B[39;00m tqdm(\u001B[38;5;28mrange\u001B[39m(optimizer_steps)):\n\u001B[1;32m     15\u001B[0m     batch \u001B[38;5;241m=\u001B[39m \u001B[38;5;28mnext\u001B[39m(training_data_loader_iter)\n",
      "\u001B[0;31mFileNotFoundError\u001B[0m: [Errno 2] No such file or directory: './model-states/2023-09-22_19-22-18'"
     ]
    }
   ],
   "source": [
    "print(f'Learning on device {DEVICE}')\n",
    "# Flow\n",
    "patch_nr_flow = create_NF(layers, hidden_nodes, net_dims)\n",
    "patch_nr_flow.to(DEVICE)\n",
    "# Optimizer\n",
    "optimizer = torch.optim.Adam(patch_nr_flow.parameters(), lr=learning_rate)\n",
    "loss_list = []\n",
    "\n",
    "#create state dir\n",
    "state_dir = f'./model-states/{current_time}'\n",
    "if not os.path.isdir(state_dir):\n",
    "    os.mkdir(state_dir)\n",
    "\n",
    "for it in tqdm(range(optimizer_steps)):\n",
    "    batch = next(training_data_loader_iter)\n",
    "    loss = 0\n",
    "    z, z_jac = patch_nr_flow(batch, rev=True)\n",
    "    loss += torch.mean(0.5 * torch.sum(z**2, dim=1) - z_jac)\n",
    "    optimizer.zero_grad()\n",
    "    loss.backward()\n",
    "    optimizer.step()\n",
    "    if it%100 == 0:\n",
    "        with torch.no_grad():\n",
    "            test_batch = next(test_data_loader_iter)\n",
    "            z_test, z_test_jac = patch_nr_flow(test_batch, rev=True)\n",
    "            test_loss = torch.mean(0.5 * torch.sum(z_test**2, dim=1) - z_test_jac).item()\n",
    "            loss_list.append([datetime.datetime.now().strftime('%Y-%m-%d_%H-%M-%S'), loss, test_loss])\n",
    "    if it%500 == 0:\n",
    "        torch.save({'net_state': patch_nr_flow.state_dict(), 'net_loss': loss, 'lr': learning_rate, 'p_dims': p_dims, }, f'{state_dir}/it-{it}-{datetime.datetime.now().strftime(\"%H-%M-%S\")}')\n",
    "\n",
    "torch.save({'net_state': patch_nr_flow.state_dict(), 'net_loss': loss}, f'{state_dir}/{datetime.datetime.now().strftime(\"final-%H-%M-%S\")}')"
   ],
   "metadata": {
    "collapsed": false,
    "ExecuteTime": {
     "start_time": "2023-09-22T15:28:48.282927Z",
     "end_time": "2023-09-22T15:29:13.966349Z"
    }
   }
  },
  {
   "cell_type": "code",
   "execution_count": null,
   "outputs": [],
   "source": [],
   "metadata": {
    "collapsed": false
   }
  }
 ],
 "metadata": {
  "kernelspec": {
   "name": "python3",
   "language": "python",
   "display_name": "Python 3"
  },
  "language_info": {
   "codemirror_mode": {
    "name": "ipython",
    "version": 2
   },
   "file_extension": ".py",
   "mimetype": "text/x-python",
   "name": "python",
   "nbconvert_exporter": "python",
   "pygments_lexer": "ipython2",
   "version": "2.7.6"
  }
 },
 "nbformat": 4,
 "nbformat_minor": 0
}
