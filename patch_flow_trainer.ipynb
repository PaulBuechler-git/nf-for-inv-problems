{
 "cells": [
  {
   "cell_type": "code",
   "execution_count": 103,
   "outputs": [],
   "source": [
    "import matplotlib.pyplot as plt\n",
    "import torch\n",
    "import numpy as np\n",
    "import torchvision.transforms as T\n",
    "from flow_models.PatchFlowModel import PatchFlowModel\n",
    "from img_utils import ImageLoader\n",
    "from trainer import patch_flow_trainer\n",
    "from transforms import image_dequantization, image_normalization\n",
    "import sqlite3"
   ],
   "metadata": {
    "collapsed": false,
    "ExecuteTime": {
     "start_time": "2023-10-19T20:27:26.104449Z",
     "end_time": "2023-10-19T20:27:26.145926Z"
    }
   }
  },
  {
   "cell_type": "code",
   "execution_count": 104,
   "outputs": [],
   "source": [
    "DEVICE = torch.device('cuda' if torch.cuda.is_available() else 'cpu')"
   ],
   "metadata": {
    "collapsed": false,
    "ExecuteTime": {
     "start_time": "2023-10-19T20:27:26.501834Z",
     "end_time": "2023-10-19T20:27:26.521344Z"
    }
   }
  },
  {
   "cell_type": "code",
   "execution_count": 105,
   "outputs": [],
   "source": [
    "patch_size = 6"
   ],
   "metadata": {
    "collapsed": false,
    "ExecuteTime": {
     "start_time": "2023-10-19T20:27:26.867348Z",
     "end_time": "2023-10-19T20:27:26.876743Z"
    }
   }
  },
  {
   "cell_type": "code",
   "execution_count": 106,
   "outputs": [],
   "source": [
    "def log_likelihood_loss(z, z_log_det):\n",
    "    return torch.mean(0.5 * torch.sum(z**2, dim=1) - z_log_det)"
   ],
   "metadata": {
    "collapsed": false,
    "ExecuteTime": {
     "start_time": "2023-10-19T20:27:27.258781Z",
     "end_time": "2023-10-19T20:27:27.270253Z"
    }
   }
  },
  {
   "cell_type": "code",
   "execution_count": 107,
   "outputs": [],
   "source": [
    "model = PatchFlowModel(hparams={\"num_layers\": 5, \"sub_net_size\": 512, \"dimension\": patch_size ** 2}) #create_NF(num_layers=10, sub_net_size=512, dimension=patch_size**2)"
   ],
   "metadata": {
    "collapsed": false,
    "ExecuteTime": {
     "start_time": "2023-10-19T20:27:27.607377Z",
     "end_time": "2023-10-19T20:27:27.648175Z"
    }
   }
  },
  {
   "cell_type": "code",
   "execution_count": 108,
   "outputs": [],
   "source": [
    "deq_normalization = T.Compose([\n",
    "    #image_dequantization(device=DEVICE),\n",
    "    image_normalization()])"
   ],
   "metadata": {
    "collapsed": false,
    "ExecuteTime": {
     "start_time": "2023-10-19T20:27:28.047241Z",
     "end_time": "2023-10-19T20:27:28.061301Z"
    }
   }
  },
  {
   "cell_type": "code",
   "execution_count": 109,
   "outputs": [],
   "source": [
    "train_images = ImageLoader('data/DIV2K/buterfly/train.png', transform=deq_normalization, device=DEVICE)\n",
    "validation_images = ImageLoader('data/DIV2K/buterfly/validate.png', transform=deq_normalization, device=DEVICE)"
   ],
   "metadata": {
    "collapsed": false,
    "ExecuteTime": {
     "start_time": "2023-10-19T20:27:28.487994Z",
     "end_time": "2023-10-19T20:27:28.736967Z"
    }
   }
  },
  {
   "cell_type": "code",
   "execution_count": 110,
   "outputs": [
    {
     "name": "stdout",
     "output_type": "stream",
     "text": [
      "Started training for model butterfly. \n",
      " Will train 3000 steps in device=cuda\n",
      "The weights, loss and the parameters will be stored at this location: results/patch_nr/butterfly/version_0\n"
     ]
    },
    {
     "name": "stderr",
     "output_type": "stream",
     "text": [
      "T: 4.577687740325928, V:-10.959135055541992:   0%|          | 1/3000 [00:00<05:27,  9.17it/s]"
     ]
    },
    {
     "name": "stdout",
     "output_type": "stream",
     "text": [
      "Optimizer is initialized with this parameters: {'state': {}, 'param_groups': [{'lr': 0.001, 'betas': (0.9, 0.999), 'eps': 1e-08, 'weight_decay': 0, 'amsgrad': False, 'maximize': False, 'foreach': None, 'capturable': False, 'differentiable': False, 'fused': None, 'params': [0, 1, 2, 3, 4, 5, 6, 7, 8, 9, 10, 11, 12, 13, 14, 15, 16, 17, 18, 19, 20, 21, 22, 23, 24, 25, 26, 27, 28, 29, 30, 31, 32, 33, 34, 35, 36, 37, 38, 39, 40, 41, 42, 43, 44, 45, 46, 47, 48, 49, 50, 51, 52, 53, 54, 55, 56, 57, 58, 59, 60, 61, 62, 63, 64, 65, 66, 67, 68, 69]}]}\n"
     ]
    },
    {
     "name": "stderr",
     "output_type": "stream",
     "text": [
      "T: -142.381591796875, V:-125.65254211425781: 100%|██████████| 3000/3000 [01:00<00:00, 49.90it/s]  \n"
     ]
    }
   ],
   "source": [
    "patch_flow_trainer('butterfly', 'results/patch_nr', model, log_likelihood_loss, train_images, validation_images, steps=3000, patch_size=patch_size, device=DEVICE)"
   ],
   "metadata": {
    "collapsed": false,
    "ExecuteTime": {
     "start_time": "2023-10-19T20:27:29.282709Z",
     "end_time": "2023-10-19T20:28:29.477105Z"
    }
   }
  },
  {
   "cell_type": "code",
   "execution_count": 111,
   "outputs": [],
   "source": [
    "connection = sqlite3.connect('results/patch_nr/butterfly/version_0/loss.db')\n",
    "cursor = connection.cursor()\n",
    "result = np.array(cursor.execute(\"SELECT * from flow_model_train_loss order by step\").fetchall())"
   ],
   "metadata": {
    "collapsed": false,
    "ExecuteTime": {
     "start_time": "2023-10-19T20:28:46.290394Z",
     "end_time": "2023-10-19T20:28:46.299556Z"
    }
   }
  },
  {
   "cell_type": "code",
   "execution_count": 112,
   "outputs": [],
   "source": [
    "x = result[:, 0]\n",
    "loss = result[:, 1]"
   ],
   "metadata": {
    "collapsed": false,
    "ExecuteTime": {
     "start_time": "2023-10-19T20:28:47.077936Z",
     "end_time": "2023-10-19T20:28:47.085872Z"
    }
   }
  },
  {
   "cell_type": "code",
   "execution_count": 113,
   "outputs": [
    {
     "data": {
      "text/plain": "[<matplotlib.lines.Line2D at 0x7f40fc36a7d0>]"
     },
     "execution_count": 113,
     "metadata": {},
     "output_type": "execute_result"
    },
    {
     "data": {
      "text/plain": "<Figure size 640x480 with 1 Axes>",
      "image/png": "[encoded data removed]"
     },
     "metadata": {},
     "output_type": "display_data"
    }
   ],
   "source": [
    "plt.plot(x, loss)"
   ],
   "metadata": {
    "collapsed": false,
    "ExecuteTime": {
     "start_time": "2023-10-19T20:28:47.662454Z",
     "end_time": "2023-10-19T20:28:47.990991Z"
    }
   }
  },
  {
   "cell_type": "code",
   "execution_count": null,
   "outputs": [],
   "source": [],
   "metadata": {
    "collapsed": false
   }
  }
 ],
 "metadata": {
  "kernelspec": {
   "name": "python3",
   "language": "python",
   "display_name": "Python 3"
  },
  "language_info": {
   "codemirror_mode": {
    "name": "ipython",
    "version": 2
   },
   "file_extension": ".py",
   "mimetype": "text/x-python",
   "name": "python",
   "nbconvert_exporter": "python",
   "pygments_lexer": "ipython2",
   "version": "2.7.6"
  }
 },
 "nbformat": 4,
 "nbformat_minor": 0
}
