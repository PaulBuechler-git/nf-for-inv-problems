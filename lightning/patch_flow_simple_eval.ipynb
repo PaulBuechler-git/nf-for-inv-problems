{
 "cells": [
  {
   "cell_type": "code",
   "execution_count": 20,
   "metadata": {
    "collapsed": true,
    "ExecuteTime": {
     "start_time": "2023-10-03T20:14:05.918468Z",
     "end_time": "2023-10-03T20:14:05.960303Z"
    }
   },
   "outputs": [],
   "source": [
    "import os\n",
    "import re\n",
    "import torchvision.transforms as transforms\n",
    "from matplotlib import pyplot as plt\n",
    "from normflows.distributions import DiagGaussian\n",
    "from dataset.TwoMoonDataset import TwoMoonDataset\n",
    "import torch\n",
    "from flow_models.PatchFlow import PatchFlow\n",
    "import torchvision as tv\n",
    "import numpy as np"
   ]
  },
  {
   "cell_type": "code",
   "execution_count": 39,
   "outputs": [],
   "source": [
    "model = 'patch_flow_simple'\n",
    "version = 2\n",
    "selected_checkpoint = 1\n",
    "selected_step = 10000"
   ],
   "metadata": {
    "collapsed": false,
    "ExecuteTime": {
     "start_time": "2023-10-03T20:18:13.080506Z",
     "end_time": "2023-10-03T20:18:13.088263Z"
    }
   }
  },
  {
   "cell_type": "code",
   "execution_count": 40,
   "outputs": [
    {
     "name": "stdout",
     "output_type": "stream",
     "text": [
      "h_params:../tb_logs/patch_flow_simple/version_2/hparams.yaml\n",
      "Checkpoint:../tb_logs/patch_flow_simple/version_2/checkpoints/epoch=1-step=10000.ckpt\n"
     ]
    }
   ],
   "source": [
    "regex = re.compile(r'epoch=(\\d+)-step=(\\d+)\\.ckpt')\n",
    "path_to_checkpoint = f'../tb_logs/{model}/version_{version}'\n",
    "h_params = f'{path_to_checkpoint}/hparams.yaml'\n",
    "checkpoints_path = f'{path_to_checkpoint}/checkpoints/'\n",
    "selected_checkpoint_file = None\n",
    "for filename in os.listdir(checkpoints_path):\n",
    "    match = regex.match(filename)\n",
    "    if match:\n",
    "        epoch_index = int(match.group(1))\n",
    "        it_index = int(match.group(2))\n",
    "        if epoch_index == selected_checkpoint and it_index == selected_step:\n",
    "            selected_checkpoint_file = filename\n",
    "checkpoint_path = os.path.join(checkpoints_path, selected_checkpoint_file)\n",
    "print(f'h_params:{h_params}')\n",
    "print(f'Checkpoint:{checkpoint_path}')"
   ],
   "metadata": {
    "collapsed": false,
    "ExecuteTime": {
     "start_time": "2023-10-03T20:18:13.944270Z",
     "end_time": "2023-10-03T20:18:13.951687Z"
    }
   }
  },
  {
   "cell_type": "code",
   "execution_count": 41,
   "outputs": [],
   "source": [
    "flow = PatchFlow.load_from_checkpoint(checkpoint_path=checkpoint_path, hparams_file=h_params, map_location='cpu')"
   ],
   "metadata": {
    "collapsed": false,
    "ExecuteTime": {
     "start_time": "2023-10-03T20:18:15.035145Z",
     "end_time": "2023-10-03T20:18:15.191421Z"
    }
   }
  },
  {
   "cell_type": "code",
   "execution_count": 42,
   "outputs": [
    {
     "data": {
      "text/plain": "(tensor([[[[-5.7928e-01, -1.1528e+00, -8.3280e-01, -1.4026e+00, -1.6580e+00,\n            -2.5581e+00, -2.7528e+00, -4.5271e+00],\n           [-5.3579e-01, -1.2142e+00, -1.1286e+00, -1.5995e+00, -1.9399e+00,\n            -2.7720e+00, -2.7819e+00, -4.5314e+00],\n           [-5.4465e-01, -1.2517e+00,  2.4207e+00,  2.0041e+00,  4.0617e+00,\n             3.4319e+00,  1.3619e+00,  1.4783e-01],\n           [-4.8272e-01, -1.4686e+00,  2.1185e+00,  1.6360e+00,  3.8364e+00,\n             3.2417e+00,  1.5121e+00, -8.6975e-03],\n           [-5.4531e+00, -7.2309e+00, -1.5807e-01, -1.5640e+00,  2.6286e+00,\n             1.5327e+00, -1.8977e+00, -2.9648e+00],\n           [-5.4418e+00, -7.6010e+00, -4.8043e-01, -2.2449e+00,  2.3045e+00,\n             1.0663e+00, -1.6928e+00, -3.1775e+00],\n           [-7.0219e+00, -9.1595e+00, -5.3557e+00, -7.1067e+00, -4.1239e+00,\n            -5.6094e+00, -6.6434e+00, -8.2429e+00],\n           [-6.6276e+00, -9.2925e+00, -5.2703e+00, -7.5795e+00, -4.0536e+00,\n            -5.9540e+00, -6.0341e+00, -8.0236e+00]]]], grad_fn=<ViewBackward0>),\n tensor([14.8336], grad_fn=<SubBackward0>))"
     },
     "execution_count": 42,
     "metadata": {},
     "output_type": "execute_result"
    }
   ],
   "source": [
    "flow.model.sample(1)"
   ],
   "metadata": {
    "collapsed": false,
    "ExecuteTime": {
     "start_time": "2023-10-03T20:18:16.350417Z",
     "end_time": "2023-10-03T20:18:16.384352Z"
    }
   }
  },
  {
   "cell_type": "code",
   "execution_count": 53,
   "outputs": [],
   "source": [
    "num_samples = 10\n",
    "samples = [flow.model.sample()[0].detach() for _ in range(num_samples)]"
   ],
   "metadata": {
    "collapsed": false,
    "ExecuteTime": {
     "start_time": "2023-10-03T20:20:29.948271Z",
     "end_time": "2023-10-03T20:20:30.201381Z"
    }
   }
  },
  {
   "cell_type": "code",
   "execution_count": 54,
   "outputs": [
    {
     "data": {
      "text/plain": "<Figure size 1000x500 with 10 Axes>",
      "image/png": "[encoded data removed]"
     },
     "metadata": {},
     "output_type": "display_data"
    }
   ],
   "source": [
    "fig, axes = plt.subplots(1, num_samples, figsize=(10, 5))\n",
    "for i in range(num_samples):\n",
    "    axes[i].imshow(torch.clamp(samples[i].squeeze(), 0, 1), cmap='gray')\n",
    "    axes[i].axis('off')\n",
    "plt.tight_layout()\n",
    "plt.show()"
   ],
   "metadata": {
    "collapsed": false,
    "ExecuteTime": {
     "start_time": "2023-10-03T20:20:30.711459Z",
     "end_time": "2023-10-03T20:20:30.811482Z"
    }
   }
  },
  {
   "cell_type": "code",
   "execution_count": null,
   "outputs": [],
   "source": [],
   "metadata": {
    "collapsed": false
   }
  }
 ],
 "metadata": {
  "kernelspec": {
   "name": "nf-for-inv-problems-env",
   "language": "python",
   "display_name": "nf-for-inv-problems-env"
  },
  "language_info": {
   "codemirror_mode": {
    "name": "ipython",
    "version": 2
   },
   "file_extension": ".py",
   "mimetype": "text/x-python",
   "name": "python",
   "nbconvert_exporter": "python",
   "pygments_lexer": "ipython2",
   "version": "2.7.6"
  }
 },
 "nbformat": 4,
 "nbformat_minor": 0
}
