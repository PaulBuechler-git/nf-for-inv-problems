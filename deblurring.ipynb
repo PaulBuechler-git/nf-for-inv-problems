{
 "cells": [
  {
   "cell_type": "code",
   "execution_count": 17,
   "metadata": {
    "collapsed": true,
    "ExecuteTime": {
     "start_time": "2023-10-19T09:47:24.416287Z",
     "end_time": "2023-10-19T09:47:24.453876Z"
    }
   },
   "outputs": [],
   "source": [
    "import matplotlib.pyplot as plt\n",
    "from torchvision import transforms\n",
    "\n",
    "from flow_models.PatchFlowModel import PatchFlowModel\n",
    "from flow_models.PatchNrFlowModel import PatchNrFlowModel\n",
    "from img_utils import ImageLoader\n",
    "from operators import BlurOperator\n",
    "import torch\n",
    "from dataset.FastPatchExtractor import FastImageLoader\n",
    "from kernels import gaussian_kernel_generator\n",
    "from regularisers import PatchNrRegulariser\n",
    "import numpy as np\n",
    "from transforms import image_normalization\n",
    "from utils import plot_image\n",
    "from variational_model_solver import variational_model_solver"
   ]
  },
  {
   "cell_type": "code",
   "execution_count": 18,
   "outputs": [
    {
     "name": "stdout",
     "output_type": "stream",
     "text": [
      "Using Device: cuda\n"
     ]
    }
   ],
   "source": [
    "DEVICE = torch.device('cuda' if torch.cuda.is_available() else 'cpu')\n",
    "print(f'Using Device: {DEVICE}')"
   ],
   "metadata": {
    "collapsed": false,
    "ExecuteTime": {
     "start_time": "2023-10-19T09:47:25.235724Z",
     "end_time": "2023-10-19T09:47:25.246947Z"
    }
   }
  },
  {
   "cell_type": "code",
   "execution_count": 19,
   "outputs": [],
   "source": [
    "patch_size = 7"
   ],
   "metadata": {
    "collapsed": false,
    "ExecuteTime": {
     "start_time": "2023-10-19T09:47:26.099045Z",
     "end_time": "2023-10-19T09:47:26.109477Z"
    }
   }
  },
  {
   "cell_type": "code",
   "execution_count": 21,
   "outputs": [],
   "source": [
    "#model_weights = torch.load('patchNR/patchNR_weights/weights_material.pth', map_location=DEVICE)\n",
    "#model = create_NF(num_layers=5, sub_net_size=512, dimension=patch_size**2)\n",
    "#model.load_state_dict(model_weights['net_state_dict'])\n",
    "\n",
    "patchNrFlowModel = PatchFlowModel(path='results/patch_nr/custom_patch_nr/version_1/custom_patch_nr_final.pth')\n",
    "#PatchNrFlowModel('patchNR/patchNR_weights/weights_material.pth', device=DEVICE)\n"
   ],
   "metadata": {
    "collapsed": false,
    "ExecuteTime": {
     "start_time": "2023-10-19T09:47:48.354972Z",
     "end_time": "2023-10-19T09:47:48.402278Z"
    }
   }
  },
  {
   "cell_type": "code",
   "execution_count": 22,
   "outputs": [],
   "source": [
    "patch_nr_regulariser = PatchNrRegulariser(patchNrFlowModel, p_size=patch_size, sample_number=50000, padding=True, padding_size=8, device=DEVICE)"
   ],
   "metadata": {
    "collapsed": false,
    "ExecuteTime": {
     "start_time": "2023-10-19T09:47:49.383066Z",
     "end_time": "2023-10-19T09:47:49.395746Z"
    }
   }
  },
  {
   "cell_type": "code",
   "execution_count": 24,
   "outputs": [],
   "source": [
    "kernel_size = 9\n",
    "std = 2"
   ],
   "metadata": {
    "collapsed": false,
    "ExecuteTime": {
     "start_time": "2023-10-19T09:47:57.815619Z",
     "end_time": "2023-10-19T09:47:57.858739Z"
    }
   }
  },
  {
   "cell_type": "code",
   "execution_count": 25,
   "outputs": [],
   "source": [
    "gaussian_kernel = gaussian_kernel_generator(kernel_size, std).to(DEVICE)\n",
    "blur_operator = BlurOperator(gaussian_kernel, device=DEVICE)"
   ],
   "metadata": {
    "collapsed": false,
    "ExecuteTime": {
     "start_time": "2023-10-19T09:47:58.275368Z",
     "end_time": "2023-10-19T09:47:58.296319Z"
    }
   }
  },
  {
   "cell_type": "code",
   "execution_count": 26,
   "outputs": [],
   "source": [
    "normalization = transforms.Compose([image_normalization()])\n",
    "image_loader = ImageLoader('data/material_pt_nr/test.png', device=DEVICE, transform=normalization)\n",
    "ground_truth = image_loader[0].to(DEVICE)"
   ],
   "metadata": {
    "collapsed": false,
    "ExecuteTime": {
     "start_time": "2023-10-19T09:47:59.060878Z",
     "end_time": "2023-10-19T09:47:59.083142Z"
    }
   }
  },
  {
   "cell_type": "code",
   "execution_count": 27,
   "outputs": [],
   "source": [
    "degraded_image = blur_operator(ground_truth)\n",
    "c, w, h = degraded_image.shape"
   ],
   "metadata": {
    "collapsed": false,
    "ExecuteTime": {
     "start_time": "2023-10-19T09:48:00.900115Z",
     "end_time": "2023-10-19T09:48:00.909201Z"
    }
   }
  },
  {
   "cell_type": "code",
   "execution_count": 28,
   "outputs": [],
   "source": [
    "sigma = 0.1\n",
    "mu = 0\n",
    "noise_level = 5.\n",
    "error_dim = w*h\n",
    "noise_vector_std1 = torch.reshape(torch.tensor(np.random.normal(mu, sigma, error_dim), device=DEVICE), (1, w, h))\n",
    "noise_degraded_image = degraded_image + normalization(noise_vector_std1*noise_level)"
   ],
   "metadata": {
    "collapsed": false,
    "ExecuteTime": {
     "start_time": "2023-10-19T09:48:01.591343Z",
     "end_time": "2023-10-19T09:48:01.607514Z"
    }
   }
  },
  {
   "cell_type": "code",
   "execution_count": 29,
   "outputs": [],
   "source": [
    "startpoint = noise_degraded_image.clone()"
   ],
   "metadata": {
    "collapsed": false,
    "ExecuteTime": {
     "start_time": "2023-10-19T09:48:02.391242Z",
     "end_time": "2023-10-19T09:48:02.407478Z"
    }
   }
  },
  {
   "cell_type": "code",
   "execution_count": 30,
   "outputs": [],
   "source": [
    "lam = 0.15"
   ],
   "metadata": {
    "collapsed": false,
    "ExecuteTime": {
     "start_time": "2023-10-19T09:48:02.852280Z",
     "end_time": "2023-10-19T09:48:02.891758Z"
    }
   }
  },
  {
   "cell_type": "code",
   "execution_count": 31,
   "outputs": [
    {
     "name": "stderr",
     "output_type": "stream",
     "text": [
      "Loss: -25.55528210353011; Likelihood: 1.3569951181495783 R: -179.41517639160156: 100%|██████████| 600/600 [03:02<00:00,  3.29it/s] \n"
     ]
    }
   ],
   "source": [
    "reconstructed = variational_model_solver(noise_degraded_image, startpoint, blur_operator, regulariser=patch_nr_regulariser, lam=lam, device=DEVICE)\n",
    "img, loss_components = reconstructed"
   ],
   "metadata": {
    "collapsed": false,
    "ExecuteTime": {
     "start_time": "2023-10-19T09:48:03.589047Z",
     "end_time": "2023-10-19T09:51:05.976229Z"
    }
   }
  },
  {
   "cell_type": "code",
   "execution_count": 32,
   "outputs": [],
   "source": [
    "rec_img = img.detach().cpu()\n",
    "deg_img = degraded_image.detach().cpu()\n",
    "gt_img = ground_truth.cpu()"
   ],
   "metadata": {
    "collapsed": false,
    "ExecuteTime": {
     "start_time": "2023-10-19T09:51:06.731420Z",
     "end_time": "2023-10-19T09:51:06.743795Z"
    }
   }
  },
  {
   "cell_type": "code",
   "execution_count": 33,
   "outputs": [],
   "source": [
    "plot_sel_patch_pos = (330, 330)\n",
    "plot_patch_size = 50"
   ],
   "metadata": {
    "collapsed": false,
    "ExecuteTime": {
     "start_time": "2023-10-19T09:51:07.342400Z",
     "end_time": "2023-10-19T09:51:07.358120Z"
    }
   }
  },
  {
   "cell_type": "code",
   "execution_count": null,
   "outputs": [],
   "source": [
    "plot_image('results/deblurring/material/ground_truth.png', ground_truth, selected_patch=plot_sel_patch_pos, p_size=plot_patch_size)\n",
    "plot_image(f'results/deblurring/material/orig_degraded_input_noise_{noise_level}_k_{kernel_size}_std_{std}.png', noise_degraded_image, selected_patch=plot_sel_patch_pos, p_size=plot_patch_size)\n",
    "plot_image(f'results/deblurring/material/orig_reconstructed_custom_noise_{noise_level}_k_{kernel_size}_std_{std}_lam_{lam}.png', rec_img, selected_patch=plot_sel_patch_pos, p_size=plot_patch_size)"
   ],
   "metadata": {
    "collapsed": false,
    "ExecuteTime": {
     "start_time": "2023-10-19T01:25:55.424991Z",
     "end_time": "2023-10-19T01:26:07.217214Z"
    },
    "pycharm": {
     "is_executing": true
    }
   }
  },
  {
   "cell_type": "code",
   "execution_count": 34,
   "outputs": [],
   "source": [
    "import skimage.metrics as skm"
   ],
   "metadata": {
    "collapsed": false,
    "ExecuteTime": {
     "start_time": "2023-10-19T09:51:11.284283Z",
     "end_time": "2023-10-19T09:51:11.740914Z"
    }
   }
  },
  {
   "cell_type": "code",
   "execution_count": 35,
   "outputs": [
    {
     "name": "stdout",
     "output_type": "stream",
     "text": [
      "PSNR rec: 36.95804308631677, PSNR deg: 28.399160723178618\n",
      "MSE rec: 0.0002014631830470666, MSE deg: 0.001445719129884231\n"
     ]
    }
   ],
   "source": [
    "psnr_rec = skm.peak_signal_noise_ratio(gt_img.numpy(), rec_img.numpy())\n",
    "mse_rec = skm.mean_squared_error(gt_img.numpy(), rec_img.numpy())\n",
    "psnr_deg = skm.peak_signal_noise_ratio(gt_img.numpy(), deg_img.numpy())\n",
    "mse_deg = skm.mean_squared_error(gt_img.numpy(), deg_img.numpy())\n",
    "\n",
    "print(f'PSNR rec: {psnr_rec}, PSNR deg: {psnr_deg}')\n",
    "print(f'MSE rec: {mse_rec}, MSE deg: {mse_deg}')"
   ],
   "metadata": {
    "collapsed": false,
    "ExecuteTime": {
     "start_time": "2023-10-19T09:51:12.453531Z",
     "end_time": "2023-10-19T09:51:12.462071Z"
    }
   }
  },
  {
   "cell_type": "code",
   "execution_count": 76,
   "outputs": [
    {
     "data": {
      "text/plain": "[<matplotlib.lines.Line2D at 0x7ff29c48d570>,\n <matplotlib.lines.Line2D at 0x7ff29c48d300>]"
     },
     "execution_count": 76,
     "metadata": {},
     "output_type": "execute_result"
    },
    {
     "data": {
      "text/plain": "<Figure size 640x480 with 1 Axes>",
      "image/png": "[encoded data removed]"
     },
     "metadata": {},
     "output_type": "display_data"
    }
   ],
   "source": [
    "loss, likelihood, regularisation = loss_components\n",
    "loss = torch.tensor(loss, device='cpu')\n",
    "likelihood = torch.tensor(likelihood, device='cpu')\n",
    "regularisation = torch.tensor(regularisation, device='cpu')\n",
    "\n",
    "plt.plot([i for i in zip(\n",
    "    #loss,\n",
    "    likelihood,\n",
    "    regularisation\n",
    ")])"
   ],
   "metadata": {
    "collapsed": false,
    "ExecuteTime": {
     "start_time": "2023-10-18T18:22:35.798949Z",
     "end_time": "2023-10-18T18:22:36.078954Z"
    }
   }
  },
  {
   "cell_type": "code",
   "execution_count": 16,
   "outputs": [],
   "source": [],
   "metadata": {
    "collapsed": false,
    "ExecuteTime": {
     "start_time": "2023-10-17T14:29:45.572839Z",
     "end_time": "2023-10-17T14:29:45.577782Z"
    }
   }
  },
  {
   "cell_type": "code",
   "execution_count": null,
   "outputs": [],
   "source": [],
   "metadata": {
    "collapsed": false
   }
  }
 ],
 "metadata": {
  "kernelspec": {
   "name": "python3",
   "language": "python",
   "display_name": "Python 3"
  },
  "language_info": {
   "codemirror_mode": {
    "name": "ipython",
    "version": 2
   },
   "file_extension": ".py",
   "mimetype": "text/x-python",
   "name": "python",
   "nbconvert_exporter": "python",
   "pygments_lexer": "ipython2",
   "version": "2.7.6"
  }
 },
 "nbformat": 4,
 "nbformat_minor": 0
}
