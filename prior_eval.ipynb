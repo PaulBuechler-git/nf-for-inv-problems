{
 "cells": [
  {
   "cell_type": "code",
   "execution_count": 5,
   "outputs": [],
   "source": [
    "import torch\n",
    "\n",
    "from dataset.FastPatchExtractor import FastPatchDataset\n",
    "from patchNR.model import create_NF"
   ],
   "metadata": {
    "collapsed": false,
    "ExecuteTime": {
     "start_time": "2023-10-05T22:30:40.961148Z",
     "end_time": "2023-10-05T22:30:41.505612Z"
    }
   }
  },
  {
   "cell_type": "code",
   "execution_count": 6,
   "outputs": [
    {
     "name": "stdout",
     "output_type": "stream",
     "text": [
      "cuda\n"
     ]
    }
   ],
   "source": [
    "DEVICE = torch.device('cuda' if torch.cuda.is_available() else 'cpu')\n",
    "print(DEVICE)"
   ],
   "metadata": {
    "collapsed": false,
    "ExecuteTime": {
     "start_time": "2023-10-05T22:30:42.317991Z",
     "end_time": "2023-10-05T22:30:42.327021Z"
    }
   }
  },
  {
   "cell_type": "code",
   "execution_count": 7,
   "metadata": {
    "collapsed": true,
    "ExecuteTime": {
     "start_time": "2023-10-05T22:30:43.029830Z",
     "end_time": "2023-10-05T22:30:43.118153Z"
    }
   },
   "outputs": [
    {
     "data": {
      "text/plain": "<All keys matched successfully>"
     },
     "execution_count": 7,
     "metadata": {},
     "output_type": "execute_result"
    }
   ],
   "source": [
    "patch_size = 6\n",
    "num_layers = 5\n",
    "subnet_nodes = 512\n",
    "weight_path = 'patchNR/patchNR_weights/weights_material.pth'\n",
    "net = create_NF(num_layers, subnet_nodes, dimension=patch_size**2)\n",
    "weights = torch.load(weight_path, map_location=DEVICE)\n",
    "net.load_state_dict(weights['net_state_dict'])"
   ]
  },
  {
   "cell_type": "code",
   "execution_count": 12,
   "outputs": [],
   "source": [
    "train_img_path = 'data/material_pt_nr/test.png'\n",
    "known = FastPatchDataset('data/', patch_size)"
   ],
   "metadata": {
    "collapsed": false,
    "ExecuteTime": {
     "start_time": "2023-10-05T22:33:58.434206Z",
     "end_time": "2023-10-05T22:33:58.478571Z"
    }
   }
  },
  {
   "cell_type": "code",
   "execution_count": 13,
   "outputs": [],
   "source": [
    "def get_regularizer_val(batch):\n",
    "    pred_inv, log_det_inv = net(batch,rev=True)\n",
    "    reg = torch.mean(torch.sum(pred_inv**2,dim=1)/2) - torch.mean(log_det_inv)\n",
    "    return reg"
   ],
   "metadata": {
    "collapsed": false,
    "ExecuteTime": {
     "start_time": "2023-10-05T22:33:59.261382Z",
     "end_time": "2023-10-05T22:33:59.270787Z"
    }
   }
  },
  {
   "cell_type": "code",
   "execution_count": 15,
   "outputs": [
    {
     "ename": "TypeError",
     "evalue": "FastPatchDataset.get_batch() missing 1 required positional argument: 'batch_size'",
     "output_type": "error",
     "traceback": [
      "\u001B[0;31m---------------------------------------------------------------------------\u001B[0m",
      "\u001B[0;31mTypeError\u001B[0m                                 Traceback (most recent call last)",
      "Cell \u001B[0;32mIn[15], line 1\u001B[0m\n\u001B[0;32m----> 1\u001B[0m batch \u001B[38;5;241m=\u001B[39m \u001B[43mknown\u001B[49m\u001B[38;5;241;43m.\u001B[39;49m\u001B[43mget_batch\u001B[49m\u001B[43m(\u001B[49m\u001B[43m)\u001B[49m\n\u001B[1;32m      2\u001B[0m get_regularizer_val(batch)\n",
      "\u001B[0;31mTypeError\u001B[0m: FastPatchDataset.get_batch() missing 1 required positional argument: 'batch_size'"
     ]
    }
   ],
   "source": [
    "batch = known.get_batch()\n",
    "get_regularizer_val(batch)"
   ],
   "metadata": {
    "collapsed": false
   }
  },
  {
   "cell_type": "code",
   "execution_count": null,
   "outputs": [],
   "source": [],
   "metadata": {
    "collapsed": false
   }
  }
 ],
 "metadata": {
  "kernelspec": {
   "display_name": "Python 3",
   "language": "python",
   "name": "python3"
  },
  "language_info": {
   "codemirror_mode": {
    "name": "ipython",
    "version": 2
   },
   "file_extension": ".py",
   "mimetype": "text/x-python",
   "name": "python",
   "nbconvert_exporter": "python",
   "pygments_lexer": "ipython2",
   "version": "2.7.6"
  }
 },
 "nbformat": 4,
 "nbformat_minor": 0
}
